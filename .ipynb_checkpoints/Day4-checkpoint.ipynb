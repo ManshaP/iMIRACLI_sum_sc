{
 "cells": [
  {
   "cell_type": "markdown",
   "metadata": {},
   "source": [
    "# Day 4"
   ]
  },
  {
   "cell_type": "markdown",
   "metadata": {},
   "source": [
    "## Lecture 9 - Global Climate Modelling"
   ]
  },
  {
   "cell_type": "markdown",
   "metadata": {},
   "source": [
    "Ulrike Lohmann\n",
    "\n",
    "- resolved vs. sub-grid scale, predict 3D wind, T, moisture, chem species\n",
    "- in both global climate as in weather pred. models, microphysics needs to be parameterised\n",
    "- cloud fraction only needed in global climate models\n",
    "- microphysics schemes: moments (mass, mass+number, mass+number+shape of size dist), prognostic eq. for species (cloud liq. water, drizzle, rain, ice crystals, snow...), aerosol species\n",
    "- liquid and ice distribution very badly constrained between -38 and 0°C by observations and climate models diverge from each other. "
   ]
  },
  {
   "cell_type": "markdown",
   "metadata": {},
   "source": [
    "## Lecture 10 - Climate Feedbacks"
   ]
  },
  {
   "cell_type": "code",
   "execution_count": null,
   "metadata": {},
   "outputs": [],
   "source": [
    "0.5% * 50 mole gas/m^3 * 6*10^23 molecules/mole * 10^4 = molecules/m^2"
   ]
  },
  {
   "cell_type": "code",
   "execution_count": null,
   "metadata": {},
   "outputs": [],
   "source": [
    "0.005 * 50*6*10^23*10^4="
   ]
  },
  {
   "cell_type": "code",
   "execution_count": null,
   "metadata": {},
   "outputs": [],
   "source": []
  }
 ],
 "metadata": {
  "kernelspec": {
   "display_name": "Python 3",
   "language": "python",
   "name": "python3"
  },
  "language_info": {
   "codemirror_mode": {
    "name": "ipython",
    "version": 3
   },
   "file_extension": ".py",
   "mimetype": "text/x-python",
   "name": "python",
   "nbconvert_exporter": "python",
   "pygments_lexer": "ipython3",
   "version": "3.7.3"
  }
 },
 "nbformat": 4,
 "nbformat_minor": 4
}
