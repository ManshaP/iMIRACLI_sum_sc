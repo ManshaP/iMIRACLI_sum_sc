{
 "cells": [
  {
   "cell_type": "markdown",
   "metadata": {
    "nbgrader": {
     "grade": false,
     "grade_id": "cell-b4c2c8101b29fe59",
     "locked": true,
     "schema_version": 3,
     "solution": false
    }
   },
   "source": [
    "# Exploring evidence for climate change and extreme events\n",
    "*(courtesy of G Hegerl, adapted by D Watson-Parris)*\n",
    "\n",
    "Climate change is one of the most pressing issues facing the world which requires clear communication of the evidence about how the climate is changing. In this project, you will use surface air temperaure data to produce various graphs that explore where and how the climate is changing. \n",
    "\n",
    "<img src=\"https://behavioralscientist.org/wp-content/uploads/2019/09/climate_change_header.png\" width = 50%>\n",
    "\n",
    "## Introduction\n",
    "\n",
    "In this exercise you will perform various analyses on surface air temperature data. \n"
   ]
  },
  {
   "cell_type": "code",
   "execution_count": null,
   "metadata": {},
   "outputs": [],
   "source": [
    "## Some libraries you might like to use...\n",
    "\n",
    "import iris\n",
    "import matplotlib.pyplot as plt\n",
    "import numpy as np\n",
    "from ipywidgets import *\n",
    "import seaborn as sns\n",
    "import pandas as pd\n",
    "import cartopy.crs as ccrs"
   ]
  },
  {
   "cell_type": "markdown",
   "metadata": {
    "nbgrader": {
     "grade": false,
     "grade_id": "cell-ace66e6b0cdfc234",
     "locked": true,
     "schema_version": 3,
     "solution": false
    }
   },
   "source": [
    "## Part 1: Data Management\n",
    "\n",
    "Find the HadCRUT4 global surface temperature data in `shared_data` and load it into python using `iris`, (Note that the file is called 'median' - as it is the median of an ensemble of datasets spanning uncertainty which is available elsewhere, it is fine to only use the median here). \n",
    "\n",
    "Print the DataSet so you can see what the coordinates and variables are. This is important for yourselves so that you refer to them correctly in the later analyses:\n",
    "- What are the coordinates?\n",
    "- What are the Data Variables?\n",
    "    - Which one corresponds to the air temperature anomaly?"
   ]
  },
  {
   "cell_type": "code",
   "execution_count": null,
   "metadata": {
    "nbgrader": {
     "grade": true,
     "grade_id": "cell-556093531953d598",
     "locked": false,
     "points": 3,
     "schema_version": 3,
     "solution": true
    }
   },
   "outputs": [],
   "source": []
  },
  {
   "cell_type": "markdown",
   "metadata": {
    "nbgrader": {
     "grade": false,
     "grade_id": "cell-271d44c1df83fd62",
     "locked": true,
     "schema_version": 3,
     "solution": false
    }
   },
   "source": [
    "This dataset is composed of a time series of global maps of surface air temperature anomalies. Specifically, these are anomalies of each month against the average monthly temperature between 1961-1990. The file has missing data where instruments could not record the surface air temperature, which we refer to as null values. \n",
    "\n",
    "These data are recorded monthly.\n",
    "\n",
    "These data are different from the reanalysis data we worked with last week as they are derived from instrumentally measured temperature measurements of air surface and sea surface temperature (see lecture on datasources).\n",
    "\n",
    "**Discussion 1.1: Briefly discuss the differences, and what the benefit and drawback is of using these instrumental data as compared with the reanalysis data.**"
   ]
  },
  {
   "cell_type": "markdown",
   "metadata": {
    "nbgrader": {
     "grade": false,
     "grade_id": "cell-501c57a4daca13fb",
     "locked": true,
     "schema_version": 3,
     "solution": false
    }
   },
   "source": [
    "**Question 1.2a: This data has many missing points, plot a map of the total number of missing values in a month summed over all years.**\n",
    "- You'll need to add a `coord_categorisation` to get month numbers\n",
    "- Use `aggregated_by()` to collapse these many timeslices into monthly summaries where you sum the number of values at each location to find out where the most missing values have occured. The `da.ma.getmaskarray` function returns the missing value mask for a cube."
   ]
  },
  {
   "cell_type": "code",
   "execution_count": null,
   "metadata": {
    "nbgrader": {
     "grade": true,
     "grade_id": "cell-6326877f53fef776",
     "locked": false,
     "points": 5,
     "schema_version": 3,
     "solution": true
    }
   },
   "outputs": [],
   "source": []
  },
  {
   "cell_type": "markdown",
   "metadata": {
    "nbgrader": {
     "grade": false,
     "grade_id": "cell-b739f83e28c75081",
     "locked": true,
     "schema_version": 3,
     "solution": false
    }
   },
   "source": [
    "#### TARGET FIGURE:\n",
    "\n",
    "<img src=\"numberOfNullsMap.png\">"
   ]
  },
  {
   "cell_type": "markdown",
   "metadata": {
    "nbgrader": {
     "grade": false,
     "grade_id": "cell-8861799751ad1ff3",
     "locked": true,
     "schema_version": 3,
     "solution": false
    }
   },
   "source": [
    "**Bonus Question 1.2b:** Use widgets to make an interactive version of this plot so that the slider bar allows you to see maps of the number of null values in each of the 12 months."
   ]
  },
  {
   "cell_type": "code",
   "execution_count": null,
   "metadata": {
    "nbgrader": {
     "grade": true,
     "grade_id": "cell-55638ede27b101b3",
     "locked": false,
     "points": 0,
     "schema_version": 3,
     "solution": true
    }
   },
   "outputs": [],
   "source": []
  },
  {
   "cell_type": "markdown",
   "metadata": {
    "nbgrader": {
     "grade": false,
     "grade_id": "cell-f128269dc9117261",
     "locked": true,
     "schema_version": 3,
     "solution": false
    }
   },
   "source": [
    "**Discussion 1.2c: Discuss some of the features of the monthly patterns of the null values**"
   ]
  },
  {
   "cell_type": "markdown",
   "metadata": {
    "nbgrader": {
     "grade": false,
     "grade_id": "cell-311cbfbe26466fd9",
     "locked": true,
     "schema_version": 3,
     "solution": false
    }
   },
   "source": [
    "**QUESTION 1.3: Plot a time series of the globally spatially averaged temperature anamaly**\n",
    "\n",
    "Whilst you can just average over the dimensions of latitude and longitude, the best answers here will perform area weighting.\n",
    "\n",
    "We will be using this plot in Part 2."
   ]
  },
  {
   "cell_type": "code",
   "execution_count": null,
   "metadata": {
    "nbgrader": {
     "grade": true,
     "grade_id": "cell-7af022f3b9517242",
     "locked": false,
     "points": 9,
     "schema_version": 3,
     "solution": true
    }
   },
   "outputs": [],
   "source": []
  },
  {
   "cell_type": "markdown",
   "metadata": {
    "nbgrader": {
     "grade": false,
     "grade_id": "cell-03d6479f85a54034",
     "locked": true,
     "schema_version": 3,
     "solution": false
    }
   },
   "source": [
    "#### TARGET FIGURE\n",
    "\n",
    "<img src=\"globallyAveragedanomaly.png\">"
   ]
  },
  {
   "cell_type": "markdown",
   "metadata": {
    "nbgrader": {
     "grade": false,
     "grade_id": "cell-3e3d089b7c64b40d",
     "locked": true,
     "schema_version": 3,
     "solution": false
    }
   },
   "source": [
    "# Part 2: How close are we to exceeding the target for global warming set at the  Paris Agreement of 1.5 degrees global mean warming? [20pt]"
   ]
  },
  {
   "cell_type": "markdown",
   "metadata": {
    "nbgrader": {
     "grade": false,
     "grade_id": "cell-ac90be25828ab5e7",
     "locked": true,
     "schema_version": 3,
     "solution": false
    }
   },
   "source": [
    "In Paris 2015, the COP Climate Conference decided to limit global warming to 1.5 or 2 degrees since, the period 1850-1900. \n",
    "\n",
    "Here, we will use the timeseries of the globally averaged surface temperature you have calculated above (Section 1.3) to estimate how much warming has occurred since the period 1850-1900 to determine how much more warming can occur and stay within this limit. \n",
    "\n",
    "Your method should represent today's global warming levels reasonably well, and also capture the average period 1850-1900 approximately. \n",
    "\n",
    "FYI: Note that this analysis assumes that all the warming has been caused by human influences - this happens to be approximately true, although a fairly involved analysis (that we do not do here) was used to estimate that."
   ]
  },
  {
   "cell_type": "markdown",
   "metadata": {
    "nbgrader": {
     "grade": false,
     "grade_id": "cell-ac90be25828ab5e8",
     "locked": true,
     "schema_version": 3,
     "solution": false
    }
   },
   "source": [
    "**Discussion 2.1a:** Discuss which methods you could apply and why; and develop a plan of analysis you will try. You could consider, for example, plotting polynomial trendlines to the globally averaged monthly surface air temperature data that you just plotted above. How might you quantify the long term temperature change?"
   ]
  },
  {
   "cell_type": "markdown",
   "metadata": {
    "nbgrader": {
     "grade": true,
     "grade_id": "cell-db08811927db2a8c",
     "locked": false,
     "points": 5,
     "schema_version": 3,
     "solution": true
    }
   },
   "source": []
  },
  {
   "cell_type": "markdown",
   "metadata": {
    "nbgrader": {
     "grade": false,
     "grade_id": "cell-e8559c13714897de",
     "locked": true,
     "schema_version": 3,
     "solution": false
    }
   },
   "source": [
    "**QUESTION 2.1b** \n",
    "\n",
    "Quantify the amount of warming since the 1850-1900 period using the methods you discussed. For example, compare and comment on the quality of order 1 (linear),  order 2 (quadratic) and order 3 (cubic) polynomials. \n",
    "\n",
    "_HINT:_ Regression plots are easy with [seaborn.pydata.org/](`seaborn`) once you have the data in a pandas DataFrame. We haven't covered this explicitly but I've given a (fairly basic) example to get you going. Explore the docs and look at the gallery to use this nice library.\n",
    "\n",
    "- Below, I have assumed your global average timeseries is called `global_mean` and converted this to a Pandas DataFrame.\n",
    "- How can you quickly assess the validity of the regression lines?"
   ]
  },
  {
   "cell_type": "code",
   "execution_count": null,
   "metadata": {
    "nbgrader": {
     "grade": true,
     "grade_id": "cell-8fac42f5f5647535",
     "locked": false,
     "points": 10,
     "schema_version": 3,
     "solution": true
    }
   },
   "outputs": [],
   "source": [
    "from iris.pandas import as_data_frame\n",
    "\n",
    "df = pd.DataFrame(global_mean.data, global_mean.coord('time').points)\n"
   ]
  },
  {
   "cell_type": "markdown",
   "metadata": {
    "nbgrader": {
     "grade": false,
     "grade_id": "cell-ed5c6a383945e147",
     "locked": true,
     "schema_version": 3,
     "solution": false
    }
   },
   "source": [
    "**Question 2.1c:** \n",
    "- Using the results of your analysis, discuss how well your different approaches capture the trend and to what extent the residual variability is consistent with random fluctuations. \n",
    "- From your graphs, estimate the amount of warming that has occurred so far using the best estimate and roughly (visually) estimate uncertainty. How much more warming can we observe before we exceed the target of limiting global warming to 1.5 or 2 degrees relative to the early industrial period of 1850-1900?\n",
    "- What would have to be done to arrive at a full uncertainty estimate?"
   ]
  },
  {
   "cell_type": "markdown",
   "metadata": {
    "nbgrader": {
     "grade": true,
     "grade_id": "cell-d957efee950bbb16",
     "locked": false,
     "points": 5,
     "schema_version": 3,
     "solution": true
    }
   },
   "source": []
  },
  {
   "cell_type": "markdown",
   "metadata": {
    "nbgrader": {
     "grade": false,
     "grade_id": "cell-dfaedb0f23536505",
     "locked": true,
     "schema_version": 3,
     "solution": false
    },
    "slideshow": {
     "slide_type": "subslide"
    }
   },
   "source": [
    "# Part 3: Climate warming over the human lifetime\n",
    "\n",
    "Now we will look at a map of how much warming has occurred over the lifetime of one of your grandparents.\n",
    "\n",
    "- You will need to find the difference between two maps that are representative of the modern temperature and around the birthdate of a grandparent. \n",
    "- Plot the averaged anomaly maps for both time periods as well as the difference.\n",
    "- Remember that monthly and annual temperatures are fairly variable from year to year so you should use a suitably long time-window to average over.\n",
    "\n",
    "**Discussion 3.1a** Briefly discuss a plan for implementing this including any assumptions, limitations or potential weaknesses:"
   ]
  },
  {
   "cell_type": "markdown",
   "metadata": {
    "nbgrader": {
     "grade": true,
     "grade_id": "cell-9918518c2d18fa44",
     "locked": false,
     "points": 3,
     "schema_version": 3,
     "solution": true
    }
   },
   "source": []
  },
  {
   "cell_type": "markdown",
   "metadata": {},
   "source": [
    "**QUESTION 3.1b:** Now implement your analysis to produce a  map of warming:"
   ]
  },
  {
   "cell_type": "code",
   "execution_count": null,
   "metadata": {
    "nbgrader": {
     "grade": true,
     "grade_id": "cell-9e04d1efd3299502",
     "locked": false,
     "points": 10,
     "schema_version": 3,
     "solution": true
    }
   },
   "outputs": [],
   "source": []
  },
  {
   "cell_type": "markdown",
   "metadata": {
    "nbgrader": {
     "grade": false,
     "grade_id": "cell-16ae432cc0d5f7bc",
     "locked": true,
     "schema_version": 3,
     "solution": false
    }
   },
   "source": [
    "**QUESTION 3.1c:** By looking at the maps, come up with three interesting observations  and describe what they show .\n",
    "\n",
    "For example:\n",
    "- is it warming more in the arctic of the tropics (near the equator)? \n",
    "- Is it warming more in the summer than the winter? \n",
    "- Is it warming everywhere? \n",
    "- etc..."
   ]
  },
  {
   "cell_type": "markdown",
   "metadata": {
    "nbgrader": {
     "grade": true,
     "grade_id": "cell-ef4e9f5c0ae070df",
     "locked": false,
     "points": 7,
     "schema_version": 3,
     "solution": true
    }
   },
   "source": []
  },
  {
   "cell_type": "markdown",
   "metadata": {
    "nbgrader": {
     "grade": false,
     "grade_id": "cell-8bad765b9115f460",
     "locked": true,
     "schema_version": 3,
     "solution": false
    }
   },
   "source": [
    "# Part 4: Monthly extreme temperature anomaly \n",
    "\n",
    "We are now looking at extreme months at 3 locations you would like to use (could be Oxford, but could be also any other part of the world you are interested in, but choose one that has data (not all null values) through a relatively long period) and pull out that datapoint and plot its timeseries\n",
    "\n",
    "**QUESTION 4.1a:** Take one of the null maps from Section 1.2a, and plot your three locations of interest on it."
   ]
  },
  {
   "cell_type": "code",
   "execution_count": null,
   "metadata": {
    "nbgrader": {
     "grade": true,
     "grade_id": "cell-b38e2f55d0add523",
     "locked": false,
     "points": 2,
     "schema_version": 3,
     "solution": true
    }
   },
   "outputs": [],
   "source": []
  },
  {
   "cell_type": "markdown",
   "metadata": {
    "nbgrader": {
     "grade": false,
     "grade_id": "cell-b81b44f9d8ad29d3",
     "locked": true,
     "schema_version": 3,
     "solution": false
    }
   },
   "source": [
    "**QUESTION 4.1b:** Plot the timeseries of the temperature anomaly at each of the locations.\n",
    "- Highlight where the extreme values occur (See week 6, you might need to convert to a data frame again)"
   ]
  },
  {
   "cell_type": "code",
   "execution_count": null,
   "metadata": {},
   "outputs": [],
   "source": [
    "# *Hint*: In order to create a Pandas DateTimeIndex and enable all of the associated Pandas functionality use the (slightly unsatisfactory) example code below:\n",
    "\n",
    "import cftime \n",
    "datetimes = cftime.num2pydate(global_mean.coord('time').points, str(global_mean.coord('time').units))\n",
    "print(datetimes)"
   ]
  },
  {
   "cell_type": "code",
   "execution_count": null,
   "metadata": {
    "nbgrader": {
     "grade": true,
     "grade_id": "cell-f4692cb681c4c995",
     "locked": false,
     "points": 5,
     "schema_version": 3,
     "solution": true
    }
   },
   "outputs": [],
   "source": []
  },
  {
   "cell_type": "markdown",
   "metadata": {
    "nbgrader": {
     "grade": false,
     "grade_id": "cell-fcc402a40f4e2b79",
     "locked": true,
     "schema_version": 3,
     "solution": false
    }
   },
   "source": [
    "**Discussion 4.1d:** In words, compare and contrast the temperature anomalies at these three locations."
   ]
  },
  {
   "cell_type": "markdown",
   "metadata": {
    "nbgrader": {
     "grade": true,
     "grade_id": "cell-13eca5f51ab227e4",
     "locked": false,
     "points": 3,
     "schema_version": 3,
     "solution": true
    }
   },
   "source": []
  },
  {
   "cell_type": "markdown",
   "metadata": {
    "nbgrader": {
     "grade": false,
     "grade_id": "cell-b27b6529b22af8e9",
     "locked": true,
     "schema_version": 3,
     "solution": false
    }
   },
   "source": [
    "**QUESTION 4.1e:** Use boxplots to visually summaries the monthly temperature anomalies for each of the locations.\n",
    "- You might find the seaborn boxplot function useful here\n",
    "    - https://seaborn.pydata.org/generated/seaborn.boxplot.html\n",
    "- Remember the seaborn works on a suitable DataFrame"
   ]
  },
  {
   "cell_type": "code",
   "execution_count": null,
   "metadata": {
    "nbgrader": {
     "grade": true,
     "grade_id": "cell-76830c66ad417c29",
     "locked": false,
     "points": 5,
     "schema_version": 3,
     "solution": true
    }
   },
   "outputs": [],
   "source": []
  },
  {
   "cell_type": "markdown",
   "metadata": {
    "nbgrader": {
     "grade": false,
     "grade_id": "cell-89d1a0b238827833",
     "locked": true,
     "schema_version": 3,
     "solution": false
    }
   },
   "source": [
    "**Discussion 4.1f:** Discuss monthly trends in the temperature anomalies paying particular attention to the averages, spread and significant of outliers."
   ]
  },
  {
   "cell_type": "markdown",
   "metadata": {
    "nbgrader": {
     "grade": true,
     "grade_id": "cell-5b8fc6bafa5a5cbf",
     "locked": false,
     "points": 5,
     "schema_version": 3,
     "solution": true
    }
   },
   "source": []
  }
 ],
 "metadata": {
  "celltoolbar": "Create Assignment",
  "kernelspec": {
   "display_name": "Python 3",
   "language": "python",
   "name": "python3"
  },
  "language_info": {
   "codemirror_mode": {
    "name": "ipython",
    "version": 3
   },
   "file_extension": ".py",
   "mimetype": "text/x-python",
   "name": "python",
   "nbconvert_exporter": "python",
   "pygments_lexer": "ipython3",
   "version": "3.7.3"
  }
 },
 "nbformat": 4,
 "nbformat_minor": 4
}
