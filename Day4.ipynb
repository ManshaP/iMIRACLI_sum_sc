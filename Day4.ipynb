{
 "cells": [
  {
   "cell_type": "markdown",
   "metadata": {},
   "source": [
    "# Day 4"
   ]
  },
  {
   "cell_type": "markdown",
   "metadata": {},
   "source": [
    "## Lecture 9 - Global Climate Modelling"
   ]
  },
  {
   "cell_type": "markdown",
   "metadata": {},
   "source": [
    "Ulrike Lohmann\n",
    "\n",
    "- resolved vs. sub-grid scale, predict 3D wind, T, moisture, chem species\n",
    "- in both global climate as in weather pred. models, microphysics needs to be parameterised\n",
    "- cloud fraction only needed in global climate models\n",
    "- microphysics schemes: moments (mass, mass+number, mass+number+shape of size dist), prognostic eq. for species (cloud liq. water, drizzle, rain, ice crystals, snow...), aerosol species\n",
    "- liquid and ice distribution very badly constrained between -38 and 0°C by observations and climate models diverge from each other. "
   ]
  },
  {
   "cell_type": "markdown",
   "metadata": {},
   "source": [
    "## Lecture 10 - Climate Feedbacks"
   ]
  },
  {
   "cell_type": "code",
   "execution_count": null,
   "metadata": {},
   "outputs": [],
   "source": [
    "0.5% * 50 mole gas/m^3 * 6*10^23 molecules/mole * 10^4 = molecules/m^2"
   ]
  },
  {
   "cell_type": "code",
   "execution_count": 2,
   "metadata": {},
   "outputs": [
    {
     "data": {
      "text/plain": [
       "1.5e+27"
      ]
     },
     "execution_count": 2,
     "metadata": {},
     "output_type": "execute_result"
    }
   ],
   "source": [
    "0.005 * 50* 6* 10**23 * 10**4"
   ]
  },
  {
   "cell_type": "markdown",
   "metadata": {},
   "source": [
    "![some](iMIRACLI_sum_sc/2020-09-15at111347.png)"
   ]
  },
  {
   "cell_type": "markdown",
   "metadata": {},
   "source": [
    "Fixed Anvil Temperature hypothesis: Deep clouds' anvils go up and therefore there is no increased radiation. \n",
    "Incorporation of mixed cloud microphysics leadinf to less ice-->liquid water feedback increase climate sensitivity. \n",
    "Cloud feedbacks are primary intermodel difference "
   ]
  },
  {
   "cell_type": "markdown",
   "metadata": {},
   "source": [
    "Can the onset of precipitation and therefore the transition from closed to open cells be suppressed by aerosols?"
   ]
  },
  {
   "cell_type": "markdown",
   "metadata": {},
   "source": [
    "## Lecture 11 - Machine Learning Primer"
   ]
  },
  {
   "cell_type": "markdown",
   "metadata": {},
   "source": [
    "reinforcement learning: Environment and Agent, where Agent learns environment to maximise rewards."
   ]
  }
 ],
 "metadata": {
  "kernelspec": {
   "display_name": "Python 3",
   "language": "python",
   "name": "python3"
  },
  "language_info": {
   "codemirror_mode": {
    "name": "ipython",
    "version": 3
   },
   "file_extension": ".py",
   "mimetype": "text/x-python",
   "name": "python",
   "nbconvert_exporter": "python",
   "pygments_lexer": "ipython3",
   "version": "3.7.3"
  }
 },
 "nbformat": 4,
 "nbformat_minor": 4
}
