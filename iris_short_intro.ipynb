{
 "cells": [
  {
   "cell_type": "markdown",
   "metadata": {
    "slideshow": {
     "slide_type": "skip"
    }
   },
   "source": [
    "**Don't run the code in the next cell this code if you are following the notebook!**\n",
    "The purpose of this is to avoid long warning messages corrupting the slide display during presentation."
   ]
  },
  {
   "cell_type": "code",
   "execution_count": 2,
   "metadata": {
    "slideshow": {
     "slide_type": "skip"
    }
   },
   "outputs": [
    {
     "name": "stderr",
     "output_type": "stream",
     "text": [
      "/opt/tljh/user/lib/python3.7/site-packages/iris/__init__.py:249: IrisDeprecation: setting the 'Future' property 'netcdf_promote' is deprecated and will be removed in a future release. Please remove code that sets this property.\n",
      "  warn_deprecated(msg.format(name))\n",
      "/opt/tljh/user/lib/python3.7/site-packages/iris/__init__.py:249: IrisDeprecation: setting the 'Future' property 'netcdf_no_unlimited' is deprecated and will be removed in a future release. Please remove code that sets this property.\n",
      "  warn_deprecated(msg.format(name))\n"
     ]
    }
   ],
   "source": [
    "import numpy\n",
    "numpy.seterr(all='ignore')\n",
    "import iris\n",
    "iris.FUTURE.netcdf_promote = True\n",
    "iris.FUTURE.netcdf_no_unlimited = True\n",
    "import warnings\n",
    "warnings.simplefilter('ignore')"
   ]
  },
  {
   "cell_type": "markdown",
   "metadata": {
    "slideshow": {
     "slide_type": "slide"
    }
   },
   "source": [
    "# Analysis of large data sets: Geo-Python"
   ]
  },
  {
   "cell_type": "markdown",
   "metadata": {
    "slideshow": {
     "slide_type": "slide"
    }
   },
   "source": [
    "## An introduction to Iris"
   ]
  },
  {
   "cell_type": "markdown",
   "metadata": {
    "slideshow": {
     "slide_type": "slide"
    }
   },
   "source": [
    "### What is Iris?"
   ]
  },
  {
   "cell_type": "markdown",
   "metadata": {
    "slideshow": {
     "slide_type": "fragment"
    }
   },
   "source": [
    "* Iris is a Python library to make working with meteorological, oceanographic and climate data easier\n",
    "* A community software package, led by a team at the Met Office with external contributors\n",
    "* It has been evolving over the last 4 or 5 years and is now at version 1.10\n",
    "* Lots of ongoing development and there is good support available"
   ]
  },
  {
   "cell_type": "markdown",
   "metadata": {
    "slideshow": {
     "slide_type": "slide"
    }
   },
   "source": [
    "### Why use Iris?"
   ]
  },
  {
   "cell_type": "markdown",
   "metadata": {
    "slideshow": {
     "slide_type": "fragment"
    }
   },
   "source": [
    " * It keeps all of your arrays together in one place - the data, the coordinates etc.\n",
    " * It takes care of metadata - less chance of making a mistake\n",
    " * It takes care of the layout of your data (which dimensions are which)\n",
    " * Can load data from a variety of formats including NetCDF, PP and GRIB\n",
    " * Convenient plotting functionality"
   ]
  },
  {
   "cell_type": "markdown",
   "metadata": {
    "slideshow": {
     "slide_type": "slide"
    }
   },
   "source": [
    "## Iris and the cube\n",
    "\n",
    "The top level object in Iris is called a cube. A cube contains data and metadata about a single phenomenon and is an implementation of the data model interpreted from the *Climate and Forecast (CF) Metadata Conventions*."
   ]
  },
  {
   "cell_type": "markdown",
   "metadata": {
    "slideshow": {
     "slide_type": "notes"
    }
   },
   "source": [
    "Each cube has:\n",
    "\n",
    " * A data array (typically a NumPy array).\n",
    " * A \"name\", preferably a CF \"standard name\" to describe the phenomenon that the cube represents.\n",
    " * A collection of coordinates to describe each of the dimensions of the data array. These coordinates are split into two types:\n",
    "    * Dimensioned coordinates are numeric, monotonic and represent a single dimension of the data array. There may be only one dimensioned coordinate per data dimension.\n",
    "    * Auxilliary coordinates can be of any type, including discrete values such as strings, and may represent more than one data dimension.\n",
    "\n",
    "A more complete explanation is available in the [Iris user guide](http://scitools.org.uk/iris/docs/latest/userguide/iris_cubes.html)."
   ]
  },
  {
   "cell_type": "markdown",
   "metadata": {
    "slideshow": {
     "slide_type": "slide"
    }
   },
   "source": [
    "Let's take a simple example to demonstrate the cube concept.\n",
    "\n",
    "Suppose we have a ``(3, 2, 4)`` NumPy array:\n",
    "\n",
    "![](../images/multi_array.png)\n"
   ]
  },
  {
   "cell_type": "markdown",
   "metadata": {
    "slideshow": {
     "slide_type": "notes"
    }
   },
   "source": [
    "Where dimensions 0, 1, and 2 have lengths 3, 2 and 4 respectively.\n",
    "\n",
    "The Iris cube to represent this data may consist of:\n",
    "\n",
    " * a standard name of \"air_temperature\" and units of \"kelvin\"\n",
    "\n",
    " * a data array of shape ``(3, 2, 4)``\n",
    "\n",
    " * a coordinate, mapping to dimension 0, consisting of:\n",
    "     * a standard name of \"height\" and units of \"meters\"\n",
    "     * an array of length 3 representing the 3 height points\n",
    "     \n",
    " * a coordinate, mapping to dimension 1, consisting of:\n",
    "     * a standard name of \"latitude\" and units of \"degrees\"\n",
    "     * an array of length 2 representing the 2 latitude points\n",
    "     * a coordinate system such that the latitude points could be fully located on the globe\n",
    "     \n",
    " * a coordinate, mapping to dimension 2, consisting of:\n",
    "     * a standard name of \"longitude\" and units of \"degrees\"\n",
    "     * an array of length 4 representing the 4 longitude points\n",
    "     * a coordinate system such that the longitude points could be fully located on the globe"
   ]
  },
  {
   "cell_type": "markdown",
   "metadata": {
    "slideshow": {
     "slide_type": "slide"
    }
   },
   "source": [
    "Pictorially the cube has taken on more information than a simple array:\n",
    "\n",
    "![](../images/multi_array_to_cube.png)"
   ]
  },
  {
   "cell_type": "markdown",
   "metadata": {
    "slideshow": {
     "slide_type": "slide"
    }
   },
   "source": [
    "## Working with a cube"
   ]
  },
  {
   "cell_type": "code",
   "execution_count": 1,
   "metadata": {
    "slideshow": {
     "slide_type": "slide"
    }
   },
   "outputs": [],
   "source": [
    "import iris\n",
    "import numpy as np"
   ]
  },
  {
   "cell_type": "code",
   "execution_count": 2,
   "metadata": {
    "slideshow": {
     "slide_type": "fragment"
    }
   },
   "outputs": [
    {
     "name": "stdout",
     "output_type": "stream",
     "text": [
      "2.4.0\n",
      "1.19.1\n"
     ]
    }
   ],
   "source": [
    "print(iris.__version__)\n",
    "print(np.__version__)"
   ]
  },
  {
   "cell_type": "markdown",
   "metadata": {
    "slideshow": {
     "slide_type": "slide"
    }
   },
   "source": [
    "Whilst it is possible to construct a cube by hand, a far more common approach to getting hold of a cube is to use the Iris load function to access data that already exists in a file."
   ]
  },
  {
   "cell_type": "code",
   "execution_count": 3,
   "metadata": {
    "slideshow": {
     "slide_type": "fragment"
    }
   },
   "outputs": [
    {
     "name": "stdout",
     "output_type": "stream",
     "text": [
      "0: air_potential_temperature / (K)     (time: 3; model_level_number: 7; grid_latitude: 204; grid_longitude: 187)\n",
      "1: surface_altitude / (m)              (grid_latitude: 204; grid_longitude: 187)\n"
     ]
    }
   ],
   "source": [
    "fname = iris.sample_data_path('uk_hires.pp')\n",
    "cubes = iris.load(fname)\n",
    "print(cubes)"
   ]
  },
  {
   "cell_type": "markdown",
   "metadata": {
    "slideshow": {
     "slide_type": "notes"
    }
   },
   "source": [
    "We can see that we've loaded two cubes, one representing the \"surface_altitude\" and the other representing \"air_potential_temperature\". We can infer even more detail from this printout; for example, what are the dimensions and shape of the \"air_potential_temperature\" cube?\n",
    "\n",
    "Above we've printed the ``iris.cube.CubeList`` instance representing all of the cubes found in the given filename. However, we can see more detail by printing individual cubes:"
   ]
  },
  {
   "cell_type": "code",
   "execution_count": 4,
   "metadata": {
    "scrolled": true,
    "slideshow": {
     "slide_type": "slide"
    }
   },
   "outputs": [
    {
     "name": "stdout",
     "output_type": "stream",
     "text": [
      "air_potential_temperature / (K)     (time: 3; model_level_number: 7; grid_latitude: 204; grid_longitude: 187)\n",
      "     Dimension coordinates:\n",
      "          time                           x                      -                 -                    -\n",
      "          model_level_number             -                      x                 -                    -\n",
      "          grid_latitude                  -                      -                 x                    -\n",
      "          grid_longitude                 -                      -                 -                    x\n",
      "     Auxiliary coordinates:\n",
      "          forecast_period                x                      -                 -                    -\n",
      "          level_height                   -                      x                 -                    -\n",
      "          sigma                          -                      x                 -                    -\n",
      "          surface_altitude               -                      -                 x                    x\n",
      "     Derived coordinates:\n",
      "          altitude                       -                      x                 x                    x\n",
      "     Scalar coordinates:\n",
      "          forecast_reference_time: 2009-11-19 04:00:00\n",
      "     Attributes:\n",
      "          STASH: m01s00i004\n",
      "          source: Data from Met Office Unified Model\n",
      "          um_version: 7.3\n"
     ]
    }
   ],
   "source": [
    "air_pot_temp = cubes[0]\n",
    "print(air_pot_temp)"
   ]
  },
  {
   "cell_type": "markdown",
   "metadata": {
    "slideshow": {
     "slide_type": "slide"
    }
   },
   "source": [
    "## Parts of a Cube"
   ]
  },
  {
   "cell_type": "code",
   "execution_count": 5,
   "metadata": {
    "slideshow": {
     "slide_type": "slide"
    }
   },
   "outputs": [
    {
     "name": "stdout",
     "output_type": "stream",
     "text": [
      "air_temperature / (K)               (time: 240; latitude: 37; longitude: 49)\n",
      "     Dimension coordinates:\n",
      "          time                           x              -              -\n",
      "          latitude                       -              x              -\n",
      "          longitude                      -              -              x\n",
      "     Auxiliary coordinates:\n",
      "          forecast_period                x              -              -\n",
      "     Scalar coordinates:\n",
      "          forecast_reference_time: 1859-09-01 06:00:00\n",
      "          height: 1.5 m\n",
      "     Attributes:\n",
      "          Conventions: CF-1.5\n",
      "          Model scenario: A1B\n",
      "          STASH: m01s03i236\n",
      "          source: Data from Met Office Unified Model 6.05\n",
      "     Cell methods:\n",
      "          mean: time (6 hour)\n"
     ]
    }
   ],
   "source": [
    "cube = iris.load_cube(iris.sample_data_path('A1B_north_america.nc'))\n",
    "print(cube)"
   ]
  },
  {
   "cell_type": "markdown",
   "metadata": {
    "slideshow": {
     "slide_type": "slide"
    }
   },
   "source": [
    "To access a cube's data array the ``data`` property exists. This is either a NumPy array or in some cases a NumPy masked array. "
   ]
  },
  {
   "cell_type": "markdown",
   "metadata": {
    "slideshow": {
     "slide_type": "fragment"
    }
   },
   "source": [
    "It is important to note that for most of the supported filetypes in Iris, the cube's data isn't actually loaded until you request it via this property (either directly or indirectly). After you've accessed the data once, it is stored on the cube and thus won't be loaded from disk again."
   ]
  },
  {
   "cell_type": "markdown",
   "metadata": {
    "slideshow": {
     "slide_type": "slide"
    }
   },
   "source": [
    "To find the shape of a cube's data it is possible to call ``cube.data.shape`` or ``cube.data.ndim``, but this will trigger any unloaded data to be loaded. Therefore ``shape`` and ``ndim`` are properties available directly on the cube that do not unnecessarily load data."
   ]
  },
  {
   "cell_type": "code",
   "execution_count": 6,
   "metadata": {
    "slideshow": {
     "slide_type": "fragment"
    }
   },
   "outputs": [
    {
     "name": "stdout",
     "output_type": "stream",
     "text": [
      "(240, 37, 49)\n",
      "3\n",
      "<class 'numpy.ma.core.MaskedArray'>\n"
     ]
    }
   ],
   "source": [
    "print(cube.shape)\n",
    "print(cube.ndim)\n",
    "print(type(cube.data))"
   ]
  },
  {
   "cell_type": "markdown",
   "metadata": {
    "slideshow": {
     "slide_type": "slide"
    }
   },
   "source": [
    "The ``standard_name``, ``long_name`` and to an extent ``var_name`` are all attributes to describe the phenomenon that the cube represents. The ``name()`` method is a convenience that returns the first non-empty attributes in the order they are listed above. "
   ]
  },
  {
   "cell_type": "code",
   "execution_count": 8,
   "metadata": {
    "slideshow": {
     "slide_type": "fragment"
    }
   },
   "outputs": [
    {
     "name": "stdout",
     "output_type": "stream",
     "text": [
      "air_temperature\n",
      "None\n",
      "air_temperature\n",
      "air_temperature\n"
     ]
    }
   ],
   "source": [
    "print(cube.standard_name)\n",
    "print(cube.long_name)\n",
    "print(cube.var_name)\n",
    "print(cube.name())"
   ]
  },
  {
   "cell_type": "markdown",
   "metadata": {
    "slideshow": {
     "slide_type": "slide"
    }
   },
   "source": [
    "To rename a cube, it is possible to set the attributes manually, but it is generally easier to use the ``rename()`` method."
   ]
  },
  {
   "cell_type": "code",
   "execution_count": 9,
   "metadata": {
    "slideshow": {
     "slide_type": "fragment"
    }
   },
   "outputs": [],
   "source": [
    "cube.rename(\"A name that isn't a valid CF standard name\")"
   ]
  },
  {
   "cell_type": "code",
   "execution_count": 10,
   "metadata": {
    "slideshow": {
     "slide_type": "fragment"
    }
   },
   "outputs": [
    {
     "name": "stdout",
     "output_type": "stream",
     "text": [
      "None\n",
      "A name that isn't a valid CF standard name\n",
      "None\n",
      "A name that isn't a valid CF standard name\n"
     ]
    }
   ],
   "source": [
    "print(cube.standard_name)\n",
    "print(cube.long_name)\n",
    "print(cube.var_name)\n",
    "print(cube.name())"
   ]
  },
  {
   "cell_type": "markdown",
   "metadata": {
    "slideshow": {
     "slide_type": "slide"
    }
   },
   "source": [
    "The ``units`` attribute on a cube tells us the units of the numbers held in the data array. We can manually change the units, or better, we can convert the cube to another unit using the ``convert_units`` method, which will automatically update the data array."
   ]
  },
  {
   "cell_type": "code",
   "execution_count": 14,
   "metadata": {
    "slideshow": {
     "slide_type": "fragment"
    }
   },
   "outputs": [
    {
     "name": "stdout",
     "output_type": "stream",
     "text": [
      "32.9233 Celsius\n",
      "32.9233 Celsius\n"
     ]
    }
   ],
   "source": [
    "print(cube.data.max(), cube.units)\n",
    "cube.convert_units('Celsius')\n",
    "print(cube.data.max(), cube.units)"
   ]
  },
  {
   "cell_type": "markdown",
   "metadata": {
    "slideshow": {
     "slide_type": "slide"
    }
   },
   "source": [
    "A cube has a dictionary for extra general purpose attributes, which can be accessed with the ``cube.attributes`` attribute:"
   ]
  },
  {
   "cell_type": "code",
   "execution_count": 15,
   "metadata": {
    "slideshow": {
     "slide_type": "fragment"
    }
   },
   "outputs": [
    {
     "name": "stdout",
     "output_type": "stream",
     "text": [
      "{'Conventions': 'CF-1.5', 'STASH': STASH(model=1, section=3, item=236), 'Model scenario': 'A1B', 'source': 'Data from Met Office Unified Model 6.05'}\n",
      "m01s03i236\n"
     ]
    }
   ],
   "source": [
    "print(cube.attributes)\n",
    "print(cube.attributes['STASH'])"
   ]
  },
  {
   "cell_type": "markdown",
   "metadata": {
    "slideshow": {
     "slide_type": "slide"
    }
   },
   "source": [
    "## Coordinates\n",
    "\n",
    "As we've seen, cubes need coordinate information to help us describe the underlying phenomenon. Typically a cube's coordinates are accessed with the ``coords`` or ``coord`` methods. The latter *must* return exactly one coordinate for the given parameter filters, where the former returns a list of matching coordinates, possibly of length 0."
   ]
  },
  {
   "cell_type": "markdown",
   "metadata": {
    "slideshow": {
     "slide_type": "slide"
    }
   },
   "source": [
    "For example, to access the time coordinate, and print the first 3 times:"
   ]
  },
  {
   "cell_type": "code",
   "execution_count": 16,
   "metadata": {
    "slideshow": {
     "slide_type": "fragment"
    }
   },
   "outputs": [
    {
     "name": "stdout",
     "output_type": "stream",
     "text": [
      "DimCoord([1860-06-01 00:00:00, 1861-06-01 00:00:00, 1862-06-01 00:00:00], bounds=[[1859-12-01 00:00:00, 1860-12-01 00:00:00],\n",
      "       [1860-12-01 00:00:00, 1861-12-01 00:00:00],\n",
      "       [1861-12-01 00:00:00, 1862-12-01 00:00:00]], standard_name='time', calendar='360_day', var_name='time')\n"
     ]
    }
   ],
   "source": [
    "time = cube.coord('time')\n",
    "print(time[:3])"
   ]
  },
  {
   "cell_type": "markdown",
   "metadata": {
    "slideshow": {
     "slide_type": "notes"
    }
   },
   "source": [
    "The coordinate interface is very similar to that of a cube. The attributes that exist on both cubes and coordinates are: ``standard_name``, ``long_name``, ``var_name``, ``units``, ``attributes`` and ``shape``. Similarly, the ``name()``, ``rename()`` and ``convert_units()`` methods also exist on a coordinate."
   ]
  },
  {
   "cell_type": "markdown",
   "metadata": {
    "slideshow": {
     "slide_type": "slide"
    }
   },
   "source": [
    "A coordinate does not have ``data``, instead it has ``points`` and ``bounds`` (``bounds`` may be ``None``). In Iris, time coordinates are currently represented as \"a number since an epoch\":"
   ]
  },
  {
   "cell_type": "code",
   "execution_count": 17,
   "metadata": {
    "slideshow": {
     "slide_type": "fragment"
    }
   },
   "outputs": [
    {
     "name": "stdout",
     "output_type": "stream",
     "text": [
      "Unit('hours since 1970-01-01 00:00:00', calendar='360_day')\n",
      "[-946800. -938160. -929520.]\n",
      "[[-951120. -942480.]\n",
      " [-942480. -933840.]\n",
      " [-933840. -925200.]]\n"
     ]
    }
   ],
   "source": [
    "print(repr(time.units))\n",
    "print(time.points[:3])\n",
    "print(time.bounds[:3])"
   ]
  },
  {
   "cell_type": "markdown",
   "metadata": {
    "slideshow": {
     "slide_type": "slide"
    }
   },
   "source": [
    "These numbers can be converted to datetime objects with the unit's ``num2date`` method. Dates can be converted back again with the ``date2num`` method:"
   ]
  },
  {
   "cell_type": "code",
   "execution_count": 18,
   "metadata": {
    "slideshow": {
     "slide_type": "fragment"
    }
   },
   "outputs": [
    {
     "name": "stdout",
     "output_type": "stream",
     "text": [
      "[cftime.Datetime360Day(1860, 6, 1, 0, 0, 0, 0)\n",
      " cftime.Datetime360Day(1861, 6, 1, 0, 0, 0, 0)\n",
      " cftime.Datetime360Day(1862, 6, 1, 0, 0, 0, 0)]\n",
      "720.0\n"
     ]
    }
   ],
   "source": [
    "import datetime\n",
    "\n",
    "print(time.units.num2date(time.points[:3]))\n",
    "print(time.units.date2num(datetime.datetime(1970, 2, 1)))"
   ]
  },
  {
   "cell_type": "markdown",
   "metadata": {
    "slideshow": {
     "slide_type": "slide"
    }
   },
   "source": [
    "Another important attribute on a coordinate is its coordinate system. Coordinate systems may be ``None`` for trivial coordinates, but particularly for spatial coordinates, they may be complex definitions of things such as the projection, ellipse and/or datum."
   ]
  },
  {
   "cell_type": "code",
   "execution_count": 19,
   "metadata": {
    "slideshow": {
     "slide_type": "fragment"
    }
   },
   "outputs": [
    {
     "name": "stdout",
     "output_type": "stream",
     "text": [
      "GeogCS(6371229.0)\n"
     ]
    }
   ],
   "source": [
    "lat = cube.coord('latitude')\n",
    "print(lat.coord_system)"
   ]
  },
  {
   "cell_type": "markdown",
   "metadata": {
    "slideshow": {
     "slide_type": "fragment"
    }
   },
   "source": [
    "In this case, the latitude's coordinate system is a simple geographic latitude on a spherical globe of radius 6371229 (meters)."
   ]
  },
  {
   "cell_type": "markdown",
   "metadata": {
    "slideshow": {
     "slide_type": "slide"
    }
   },
   "source": [
    "Sometimes it is desirable to add bounds to a coordinate that doesn't have any. \n",
    "\n",
    "The ``guess_bounds`` method on a coordinate is useful in this regard. "
   ]
  },
  {
   "cell_type": "markdown",
   "metadata": {
    "slideshow": {
     "slide_type": "slide"
    }
   },
   "source": [
    "For example, the latitude coordinate previously obtained does not have bounds, but we can either set some manually, or use the ``guess_bounds`` method:"
   ]
  },
  {
   "cell_type": "code",
   "execution_count": 20,
   "metadata": {
    "slideshow": {
     "slide_type": "fragment"
    }
   },
   "outputs": [
    {
     "name": "stdout",
     "output_type": "stream",
     "text": [
      "[15.   16.25 17.5 ]\n",
      "None\n",
      "[[14.375 15.625]\n",
      " [15.625 16.875]\n",
      " [16.875 18.125]]\n"
     ]
    }
   ],
   "source": [
    "print(lat.points[:3])\n",
    "print(lat.bounds)\n",
    "if lat.bounds is None:\n",
    "    lat.guess_bounds()\n",
    "print(lat.bounds[:3])"
   ]
  },
  {
   "cell_type": "markdown",
   "metadata": {
    "slideshow": {
     "slide_type": "slide"
    }
   },
   "source": [
    "### Exercise 1\n",
    "\n",
    "1\\. Using the file in ``iris.sample_data_path('atlantic_profiles.nc')`` load the data and print the cube list. Store these cubes in a variable called cubes."
   ]
  },
  {
   "cell_type": "code",
   "execution_count": 22,
   "metadata": {},
   "outputs": [
    {
     "name": "stdout",
     "output_type": "stream",
     "text": [
      "0: sea_water_potential_temperature / (K) (depth: 40; latitude: 6; longitude: 8)\n",
      "1: sea_water_practical_salinity / (1e-3) (depth: 40; latitude: 6; longitude: 8)\n"
     ]
    }
   ],
   "source": [
    "fname=iris.sample_data_path('atlantic_profiles.nc')\n",
    "cubes = iris.load(fname)\n",
    "print(cubes)"
   ]
  },
  {
   "cell_type": "markdown",
   "metadata": {
    "slideshow": {
     "slide_type": "fragment"
    }
   },
   "source": [
    "2\\. Loop through each of the cubes (e.g. ``for cube in cubes``) and print the standard name of each."
   ]
  },
  {
   "cell_type": "code",
   "execution_count": 23,
   "metadata": {},
   "outputs": [
    {
     "name": "stdout",
     "output_type": "stream",
     "text": [
      "sea_water_potential_temperature\n",
      "sea_water_practical_salinity\n"
     ]
    }
   ],
   "source": [
    "for cube in cubes: \n",
    "    print(cube.standard_name)"
   ]
  },
  {
   "cell_type": "markdown",
   "metadata": {
    "slideshow": {
     "slide_type": "fragment"
    }
   },
   "source": [
    "3\\. Extract the \"sea_water_potential_temperature\" cube. Print the minimum, maximum, mean and standard deviation of the cube's data."
   ]
  },
  {
   "cell_type": "code",
   "execution_count": 39,
   "metadata": {},
   "outputs": [
    {
     "data": {
      "text/plain": [
       "8.186847346401617"
      ]
     },
     "execution_count": 39,
     "metadata": {},
     "output_type": "execute_result"
    }
   ],
   "source": [
    "cube=cubes[0]\n",
    "cube.data.std()"
   ]
  },
  {
   "cell_type": "markdown",
   "metadata": {
    "slideshow": {
     "slide_type": "fragment"
    }
   },
   "source": [
    "## 4\\. Print the attributes of the cube."
   ]
  },
  {
   "cell_type": "code",
   "execution_count": 25,
   "metadata": {},
   "outputs": [
    {
     "data": {
      "text/plain": [
       "{'Conventions': 'CF-1.5'}"
      ]
     },
     "execution_count": 25,
     "metadata": {},
     "output_type": "execute_result"
    }
   ],
   "source": [
    "cube.attributes"
   ]
  },
  {
   "cell_type": "markdown",
   "metadata": {
    "slideshow": {
     "slide_type": "fragment"
    }
   },
   "source": [
    "5\\. Print the names of all coordinates on the cube. (Hint: Remember the cube.coords method without any keywords will give us all of the cube's coordinates)"
   ]
  },
  {
   "cell_type": "code",
   "execution_count": 28,
   "metadata": {},
   "outputs": [
    {
     "data": {
      "text/plain": [
       "<bound method Cube.coords of <iris 'Cube' of sea_water_potential_temperature / (K) (depth: 40; latitude: 6; longitude: 8)>>"
      ]
     },
     "execution_count": 28,
     "metadata": {},
     "output_type": "execute_result"
    }
   ],
   "source": [
    "cube.coords"
   ]
  },
  {
   "cell_type": "markdown",
   "metadata": {
    "slideshow": {
     "slide_type": "fragment"
    }
   },
   "source": [
    "6\\. Get hold of the \"latitude\" coordinate on the cube. Identify whether this coordinate has bounds. Print the minimum and maximum latitude points in the cube."
   ]
  },
  {
   "cell_type": "code",
   "execution_count": 42,
   "metadata": {},
   "outputs": [
    {
     "name": "stdout",
     "output_type": "stream",
     "text": [
      "-9.833798\n"
     ]
    }
   ],
   "source": [
    "lat=cube.coord('latitude')\n",
    "print(lat.points.min())"
   ]
  },
  {
   "cell_type": "markdown",
   "metadata": {
    "slideshow": {
     "slide_type": "slide"
    }
   },
   "source": [
    "## Loading data into Iris"
   ]
  },
  {
   "cell_type": "markdown",
   "metadata": {
    "slideshow": {
     "slide_type": "slide"
    }
   },
   "source": [
    "We've already seen the basic ``load`` function, but we can also control which cubes are actually loaded with *constraints*. The simplest constraint is just a string, which filters cubes based on their name:"
   ]
  },
  {
   "cell_type": "code",
   "execution_count": 43,
   "metadata": {
    "slideshow": {
     "slide_type": "fragment"
    }
   },
   "outputs": [
    {
     "name": "stdout",
     "output_type": "stream",
     "text": [
      "0: air_potential_temperature / (K)     (time: 3; model_level_number: 7; grid_latitude: 204; grid_longitude: 187)\n"
     ]
    }
   ],
   "source": [
    "fname = iris.sample_data_path('uk_hires.pp')\n",
    "print(iris.load(fname, 'air_potential_temperature'))"
   ]
  },
  {
   "cell_type": "markdown",
   "metadata": {
    "slideshow": {
     "slide_type": "slide"
    }
   },
   "source": [
    "### Loading data from multiple files\n",
    "\n",
    "You can load multiple files at the same time by providing a list of file names:"
   ]
  },
  {
   "cell_type": "code",
   "execution_count": 45,
   "metadata": {
    "slideshow": {
     "slide_type": "fragment"
    }
   },
   "outputs": [
    {
     "name": "stdout",
     "output_type": "stream",
     "text": [
      "0: surface_temperature / (K)           (realization: 2; time: 6; latitude: 145; longitude: 192)\n"
     ]
    }
   ],
   "source": [
    "filename1 = iris.sample_data_path('GloSea4', 'ensemble_010.pp')\n",
    "filename2 = iris.sample_data_path('GloSea4', 'ensemble_011.pp')\n",
    "cubes = iris.load([filename1, filename2])\n",
    "print(cubes)"
   ]
  },
  {
   "cell_type": "markdown",
   "metadata": {
    "slideshow": {
     "slide_type": "notes"
    }
   },
   "source": [
    "#### Note on sample_data_path:\n",
    "\n",
    "Throughout this course we will make use of the sample data that Iris provides. The function ``iris.sample_data_path`` returns the appropriate path to the file in the Iris sample data collection. A common mistake for Iris users is to use the ``sample_data_path`` function to access data that is not part of Iris's sample data collection - this is bad practice and is unlikely to work in the future."
   ]
  },
  {
   "cell_type": "markdown",
   "metadata": {
    "slideshow": {
     "slide_type": "slide"
    }
   },
   "source": [
    "### The three load functions: load, load_cube and load_cubes\n",
    "\n",
    "There are three main load functions in Iris: ``load``, ``load_cube`` and ``load_cubes``.\n",
    "\n",
    "1. **load** is a general purpose loading function. Typically this is where all data analysis will start, before more loading is refined with the more controlled loading from the other two functions.\n",
    "2. **load_cube** returns a single cube from the given source(s) and constraint. There will be exactly one cube, or an exception will be raised.\n",
    "3. **load_cubes** returns a list of cubes from the given sources(s) and constraint(s). There will be exactly one cube per constraint, or an exception will be raised."
   ]
  },
  {
   "cell_type": "markdown",
   "metadata": {
    "slideshow": {
     "slide_type": "notes"
    }
   },
   "source": [
    "In general, it is a good idea to make use of the ``load_cube``/``load_cubes`` functions rather than the generic ``load`` function in non-exploratory code. Doing so makes your code more resilient to changes in the data source, often results in more readable/maintainable code, and in combination with well defined constraints, often leads to improve load performance."
   ]
  },
  {
   "cell_type": "markdown",
   "metadata": {
    "slideshow": {
     "slide_type": "slide"
    }
   },
   "source": [
    "The load functions all accept either a single filename or a list of filenames to load, and any of the filenames can be \"glob\" patterns (http://docs.python.org/2/library/glob.html)."
   ]
  },
  {
   "cell_type": "markdown",
   "metadata": {
    "slideshow": {
     "slide_type": "slide"
    }
   },
   "source": [
    "## Saving cubes\n",
    "\n",
    "The ``iris.save`` function provides a convenient interface to save Cube and CubeList instances.\n",
    "\n",
    "To save some cubes to a NetCDF file:"
   ]
  },
  {
   "cell_type": "code",
   "execution_count": 47,
   "metadata": {
    "slideshow": {
     "slide_type": "fragment"
    }
   },
   "outputs": [],
   "source": [
    "fname = iris.sample_data_path('uk_hires.pp')\n",
    "cubes = iris.load(fname)\n",
    "iris.save(cubes, 'saved_cubes.nc')"
   ]
  },
  {
   "cell_type": "markdown",
   "metadata": {
    "slideshow": {
     "slide_type": "fragment"
    }
   },
   "source": [
    "Extra keywords can be passed to specific fileformat savers."
   ]
  },
  {
   "cell_type": "code",
   "execution_count": 48,
   "metadata": {
    "slideshow": {
     "slide_type": "skip"
    }
   },
   "outputs": [
    {
     "name": "stdout",
     "output_type": "stream",
     "text": [
      "netcdf saved_cubes {\n",
      "dimensions:\n",
      "\ttime = 3 ;\n",
      "\tmodel_level_number = 7 ;\n",
      "\tgrid_latitude = 204 ;\n",
      "\tgrid_longitude = 187 ;\n",
      "\tbnds = 2 ;\n",
      "variables:\n",
      "\tfloat air_potential_temperature(time, model_level_number, grid_latitude, grid_longitude) ;\n",
      "\t\tair_potential_temperature:standard_name = \"air_potential_temperature\" ;\n",
      "\t\tair_potential_temperature:units = \"K\" ;\n",
      "\t\tair_potential_temperature:um_stash_source = \"m01s00i004\" ;\n",
      "\t\tair_potential_temperature:grid_mapping = \"rotated_latitude_longitude\" ;\n",
      "\t\tair_potential_temperature:coordinates = \"forecast_period forecast_reference_time level_height sigma surface_altitude\" ;\n",
      "\tint rotated_latitude_longitude ;\n",
      "\t\trotated_latitude_longitude:grid_mapping_name = \"rotated_latitude_longitude\" ;\n",
      "\t\trotated_latitude_longitude:longitude_of_prime_meridian = 0. ;\n",
      "\t\trotated_latitude_longitude:earth_radius = 6371229. ;\n",
      "\t\trotated_latitude_longitude:grid_north_pole_latitude = 37.5 ;\n",
      "\t\trotated_latitude_longitude:grid_north_pole_longitude = 177.5 ;\n"
     ]
    }
   ],
   "source": [
    "!ncdump -h saved_cubes.nc | head -n 20\n",
    "!rm saved_cubes.nc"
   ]
  },
  {
   "cell_type": "markdown",
   "metadata": {
    "slideshow": {
     "slide_type": "slide"
    }
   },
   "source": [
    "## Selecting parts of a cube"
   ]
  },
  {
   "cell_type": "markdown",
   "metadata": {
    "slideshow": {
     "slide_type": "slide"
    }
   },
   "source": [
    "### Indexing\n",
    "\n",
    "Cubes can be indexed in a familiar manner to that of NumPy arrays:"
   ]
  },
  {
   "cell_type": "code",
   "execution_count": 49,
   "metadata": {
    "slideshow": {
     "slide_type": "fragment"
    }
   },
   "outputs": [
    {
     "name": "stdout",
     "output_type": "stream",
     "text": [
      "air_potential_temperature / (K)     (time: 3; model_level_number: 7; grid_latitude: 204; grid_longitude: 187)\n"
     ]
    }
   ],
   "source": [
    "fname = iris.sample_data_path('uk_hires.pp')\n",
    "cube = iris.load_cube(fname, 'air_potential_temperature')\n",
    "print(cube.summary(shorten=True))"
   ]
  },
  {
   "cell_type": "code",
   "execution_count": 50,
   "metadata": {
    "slideshow": {
     "slide_type": "fragment"
    }
   },
   "outputs": [
    {
     "name": "stdout",
     "output_type": "stream",
     "text": [
      "air_potential_temperature / (K)     (time: 3; model_level_number: 7; grid_latitude: 20; grid_longitude: 10)\n"
     ]
    }
   ],
   "source": [
    "subcube = cube[..., 15:35, :10]\n",
    "print(subcube.summary(shorten=True))"
   ]
  },
  {
   "cell_type": "markdown",
   "metadata": {
    "slideshow": {
     "slide_type": "notes"
    }
   },
   "source": [
    "Note: the result of indexing a cube is *always* a copy and never a *view* on the original data."
   ]
  },
  {
   "cell_type": "markdown",
   "metadata": {
    "slideshow": {
     "slide_type": "slide"
    }
   },
   "source": [
    "### Constraints\n",
    "\n",
    "Iris's constraints mechanism provides a powerful way to filter a subset of data from a larger collection. We've already seen that constraints can be used at load time to return data of interest from a file, but we can also apply constraints to a single cube, or a list of cubes, using their respective ``extract`` methods:\n",
    "\n"
   ]
  },
  {
   "cell_type": "code",
   "execution_count": 51,
   "metadata": {
    "slideshow": {
     "slide_type": "fragment"
    }
   },
   "outputs": [
    {
     "name": "stdout",
     "output_type": "stream",
     "text": [
      "0: air_potential_temperature / (K)     (time: 3; model_level_number: 7; grid_latitude: 204; grid_longitude: 187)\n"
     ]
    }
   ],
   "source": [
    "fname = iris.sample_data_path('uk_hires.pp')\n",
    "cubes = iris.load(fname)\n",
    "print(cubes.extract('air_potential_temperature'))"
   ]
  },
  {
   "cell_type": "markdown",
   "metadata": {
    "slideshow": {
     "slide_type": "slide"
    }
   },
   "source": [
    "The simplest constraint, namely a string that matches a cube's name, is conveniently converted into an actual ``iris.Constraint`` instance wherever needed. However, we could construct this constraint manually and compare with the previous result:"
   ]
  },
  {
   "cell_type": "code",
   "execution_count": 52,
   "metadata": {
    "slideshow": {
     "slide_type": "fragment"
    }
   },
   "outputs": [
    {
     "name": "stdout",
     "output_type": "stream",
     "text": [
      "0: air_potential_temperature / (K)     (time: 3; model_level_number: 7; grid_latitude: 204; grid_longitude: 187)\n"
     ]
    }
   ],
   "source": [
    "pot_temp_constraint = iris.Constraint('air_potential_temperature')\n",
    "print(cubes.extract(pot_temp_constraint))"
   ]
  },
  {
   "cell_type": "markdown",
   "metadata": {
    "slideshow": {
     "slide_type": "slide"
    }
   },
   "source": [
    "The Constraint constructor also takes arbitrary keywords to constrain coordinate values. For example, to extract model level number 10 from the air potential temperature cube:"
   ]
  },
  {
   "cell_type": "code",
   "execution_count": 53,
   "metadata": {},
   "outputs": [],
   "source": [
    "fname = iris.sample_data_path('uk_hires.pp')\n",
    "cube = iris.load_cube(fname, 'air_potential_temperature')"
   ]
  },
  {
   "cell_type": "code",
   "execution_count": 54,
   "metadata": {
    "slideshow": {
     "slide_type": "fragment"
    }
   },
   "outputs": [
    {
     "name": "stdout",
     "output_type": "stream",
     "text": [
      "air_potential_temperature / (K)     (time: 3; grid_latitude: 204; grid_longitude: 187)\n",
      "DimCoord(array([10], dtype=int32), standard_name='model_level_number', units=Unit('1'), attributes={'positive': 'up'})\n"
     ]
    }
   ],
   "source": [
    "level_constraint = iris.Constraint(model_level_number=10)\n",
    "cube_l10 = cube.extract(level_constraint)\n",
    "print(cube_l10.summary(shorten=True))\n",
    "print(cube_l10.coord('model_level_number'))"
   ]
  },
  {
   "cell_type": "markdown",
   "metadata": {
    "slideshow": {
     "slide_type": "slide"
    }
   },
   "source": [
    "We could also use a list of possible values instead of a single value in our constraint:"
   ]
  },
  {
   "cell_type": "code",
   "execution_count": 55,
   "metadata": {
    "slideshow": {
     "slide_type": "fragment"
    }
   },
   "outputs": [
    {
     "name": "stdout",
     "output_type": "stream",
     "text": [
      "air_potential_temperature / (K)     (time: 3; model_level_number: 2; grid_latitude: 204; grid_longitude: 187)\n",
      "     Dimension coordinates:\n",
      "          time                           x                      -                 -                    -\n",
      "          model_level_number             -                      x                 -                    -\n",
      "          grid_latitude                  -                      -                 x                    -\n",
      "          grid_longitude                 -                      -                 -                    x\n",
      "     Auxiliary coordinates:\n",
      "          forecast_period                x                      -                 -                    -\n",
      "          level_height                   -                      x                 -                    -\n",
      "          sigma                          -                      x                 -                    -\n",
      "          surface_altitude               -                      -                 x                    x\n",
      "     Derived coordinates:\n",
      "          altitude                       -                      x                 x                    x\n",
      "     Scalar coordinates:\n",
      "          forecast_reference_time: 2009-11-19 04:00:00\n",
      "     Attributes:\n",
      "          STASH: m01s00i004\n",
      "          source: Data from Met Office Unified Model\n",
      "          um_version: 7.3\n"
     ]
    }
   ],
   "source": [
    "level_constraint = iris.Constraint(model_level_number=[4, 10])\n",
    "print(cube.extract(level_constraint))"
   ]
  },
  {
   "cell_type": "markdown",
   "metadata": {
    "slideshow": {
     "slide_type": "slide"
    }
   },
   "source": [
    "Constraints can also be defined by arbitrary functions that operate on each cell of a coordinate. The function should return `True` if we want to keep the input cell, and `False` otherwise:"
   ]
  },
  {
   "cell_type": "code",
   "execution_count": 56,
   "metadata": {
    "slideshow": {
     "slide_type": "fragment"
    }
   },
   "outputs": [
    {
     "name": "stdout",
     "output_type": "stream",
     "text": [
      "air_potential_temperature / (K)     (time: 3; model_level_number: 3; grid_latitude: 204; grid_longitude: 187)\n",
      "     Dimension coordinates:\n",
      "          time                           x                      -                 -                    -\n",
      "          model_level_number             -                      x                 -                    -\n",
      "          grid_latitude                  -                      -                 x                    -\n",
      "          grid_longitude                 -                      -                 -                    x\n",
      "     Auxiliary coordinates:\n",
      "          forecast_period                x                      -                 -                    -\n",
      "          level_height                   -                      x                 -                    -\n",
      "          sigma                          -                      x                 -                    -\n",
      "          surface_altitude               -                      -                 x                    x\n",
      "     Derived coordinates:\n",
      "          altitude                       -                      x                 x                    x\n",
      "     Scalar coordinates:\n",
      "          forecast_reference_time: 2009-11-19 04:00:00\n",
      "     Attributes:\n",
      "          STASH: m01s00i004\n",
      "          source: Data from Met Office Unified Model\n",
      "          um_version: 7.3\n"
     ]
    }
   ],
   "source": [
    "def less_than_10(cell):\n",
    "    \"\"\"Return True for values that are less than 10.\"\"\"\n",
    "    return cell < 10\n",
    "\n",
    "level_constraint = iris.Constraint(model_level_number=less_than_10)\n",
    "print(cube.extract(level_constraint))"
   ]
  },
  {
   "cell_type": "markdown",
   "metadata": {
    "slideshow": {
     "slide_type": "slide"
    }
   },
   "source": [
    "## Collapsing and aggregation\n",
    "\n",
    "We often want to apply some reduction to our data using a statistical operator.\n",
    "Iris provides a couple of useful ways to do this that preserve metadata."
   ]
  },
  {
   "cell_type": "code",
   "execution_count": 57,
   "metadata": {
    "slideshow": {
     "slide_type": "-"
    }
   },
   "outputs": [
    {
     "name": "stdout",
     "output_type": "stream",
     "text": [
      "air_temperature / (K)               (time: 240; latitude: 37; longitude: 49)\n",
      "     Dimension coordinates:\n",
      "          time                           x              -              -\n",
      "          latitude                       -              x              -\n",
      "          longitude                      -              -              x\n",
      "     Auxiliary coordinates:\n",
      "          forecast_period                x              -              -\n",
      "     Scalar coordinates:\n",
      "          forecast_reference_time: 1859-09-01 06:00:00\n",
      "          height: 1.5 m\n",
      "     Attributes:\n",
      "          Conventions: CF-1.5\n",
      "          Model scenario: A1B\n",
      "          STASH: m01s03i236\n",
      "          source: Data from Met Office Unified Model 6.05\n",
      "     Cell methods:\n",
      "          mean: time (6 hour)\n"
     ]
    }
   ],
   "source": [
    "cube = iris.load_cube(iris.sample_data_path('A1B_north_america.nc'))\n",
    "print(cube)"
   ]
  },
  {
   "cell_type": "markdown",
   "metadata": {
    "slideshow": {
     "slide_type": "slide"
    }
   },
   "source": [
    "We'll start by taking the mean over the time dimension of our cube. We use the **`collapsed()`** method, giving it the name of the coordinate we want to collapse and an aggregator that tells it how to collapse the coordinate:"
   ]
  },
  {
   "cell_type": "code",
   "execution_count": 58,
   "metadata": {
    "slideshow": {
     "slide_type": "fragment"
    }
   },
   "outputs": [
    {
     "name": "stdout",
     "output_type": "stream",
     "text": [
      "air_temperature / (K)               (latitude: 37; longitude: 49)\n",
      "     Dimension coordinates:\n",
      "          latitude                           x              -\n",
      "          longitude                          -              x\n",
      "     Scalar coordinates:\n",
      "          forecast_period: 1043274 hours, bound=(10794, 2075754) hours\n",
      "          forecast_reference_time: 1859-09-01 06:00:00\n",
      "          height: 1.5 m\n",
      "          time: 1979-12-01 00:00:00, bound=(1859-12-01 00:00:00, 2099-12-01 00:00:00)\n",
      "     Attributes:\n",
      "          Conventions: CF-1.5\n",
      "          Model scenario: A1B\n",
      "          STASH: m01s03i236\n",
      "          source: Data from Met Office Unified Model 6.05\n",
      "     Cell methods:\n",
      "          mean: time (6 hour)\n",
      "          mean: time\n"
     ]
    },
    {
     "name": "stderr",
     "output_type": "stream",
     "text": [
      "/opt/tljh/user/lib/python3.7/site-packages/iris/coords.py:1410: UserWarning: Collapsing a non-contiguous coordinate. Metadata may not be fully descriptive for 'forecast_period'.\n",
      "  warnings.warn(msg.format(self.name()))\n"
     ]
    }
   ],
   "source": [
    "import iris.analysis\n",
    "\n",
    "print(cube.collapsed('time', iris.analysis.MEAN))"
   ]
  },
  {
   "cell_type": "markdown",
   "metadata": {
    "slideshow": {
     "slide_type": "slide"
    }
   },
   "source": [
    "We can use a variety of built-in aggregators to compute different quantities, for example we could also compute the standard deviation over the time dimension:"
   ]
  },
  {
   "cell_type": "code",
   "execution_count": 59,
   "metadata": {
    "slideshow": {
     "slide_type": "fragment"
    }
   },
   "outputs": [
    {
     "name": "stdout",
     "output_type": "stream",
     "text": [
      "air_temperature / (K)               (latitude: 37; longitude: 49)\n",
      "     Dimension coordinates:\n",
      "          latitude                           x              -\n",
      "          longitude                          -              x\n",
      "     Scalar coordinates:\n",
      "          forecast_period: 1043274 hours, bound=(10794, 2075754) hours\n",
      "          forecast_reference_time: 1859-09-01 06:00:00\n",
      "          height: 1.5 m\n",
      "          time: 1979-12-01 00:00:00, bound=(1859-12-01 00:00:00, 2099-12-01 00:00:00)\n",
      "     Attributes:\n",
      "          Conventions: CF-1.5\n",
      "          Model scenario: A1B\n",
      "          STASH: m01s03i236\n",
      "          source: Data from Met Office Unified Model 6.05\n",
      "     Cell methods:\n",
      "          mean: time (6 hour)\n",
      "          standard_deviation: time\n"
     ]
    },
    {
     "name": "stderr",
     "output_type": "stream",
     "text": [
      "/opt/tljh/user/lib/python3.7/site-packages/iris/coords.py:1410: UserWarning: Collapsing a non-contiguous coordinate. Metadata may not be fully descriptive for 'forecast_period'.\n",
      "  warnings.warn(msg.format(self.name()))\n"
     ]
    }
   ],
   "source": [
    "print(cube.collapsed('time', iris.analysis.STD_DEV))"
   ]
  },
  {
   "cell_type": "markdown",
   "metadata": {
    "slideshow": {
     "slide_type": "slide"
    }
   },
   "source": [
    "It is possible to collapse a cube over multiple dimensions, in this case we compute the global mean air temperature by collapsing over the latitude and longitude dimensions:"
   ]
  },
  {
   "cell_type": "code",
   "execution_count": 60,
   "metadata": {
    "slideshow": {
     "slide_type": "fragment"
    }
   },
   "outputs": [
    {
     "name": "stdout",
     "output_type": "stream",
     "text": [
      "air_temperature / (K)               (time: 240)\n",
      "     Dimension coordinates:\n",
      "          time                           x\n",
      "     Auxiliary coordinates:\n",
      "          forecast_period                x\n",
      "     Scalar coordinates:\n",
      "          forecast_reference_time: 1859-09-01 06:00:00\n",
      "          height: 1.5 m\n",
      "          latitude: 37.5 degrees, bound=(15.0, 60.0) degrees\n",
      "          longitude: 270.0 degrees, bound=(225.0, 315.0) degrees\n",
      "     Attributes:\n",
      "          Conventions: CF-1.5\n",
      "          Model scenario: A1B\n",
      "          STASH: m01s03i236\n",
      "          source: Data from Met Office Unified Model 6.05\n",
      "     Cell methods:\n",
      "          mean: time (6 hour)\n",
      "          mean: latitude, longitude\n",
      "284.5098\n"
     ]
    },
    {
     "name": "stderr",
     "output_type": "stream",
     "text": [
      "/opt/tljh/user/lib/python3.7/site-packages/iris/cube.py:3218: UserWarning: Collapsing spatial coordinate 'latitude' without weighting\n",
      "  warnings.warn(msg.format(coord.name()))\n",
      "/opt/tljh/user/lib/python3.7/site-packages/iris/coords.py:1410: UserWarning: Collapsing a non-contiguous coordinate. Metadata may not be fully descriptive for 'latitude'.\n",
      "  warnings.warn(msg.format(self.name()))\n",
      "/opt/tljh/user/lib/python3.7/site-packages/iris/coords.py:1410: UserWarning: Collapsing a non-contiguous coordinate. Metadata may not be fully descriptive for 'longitude'.\n",
      "  warnings.warn(msg.format(self.name()))\n"
     ]
    }
   ],
   "source": [
    "global_mean = cube.collapsed(['latitude', 'longitude'],\n",
    "                             iris.analysis.MEAN)\n",
    "print(global_mean)\n",
    "print(global_mean.data[0])"
   ]
  },
  {
   "cell_type": "markdown",
   "metadata": {
    "slideshow": {
     "slide_type": "slide"
    }
   },
   "source": [
    "Notice the warning in the previous example. We averaged over space but did not take into account the variation in grid cell area over the globe. To do this averaging correctly we need weights. Iris has built-in functionality for computing area weights (but requires bounded grid coordinates):"
   ]
  },
  {
   "cell_type": "code",
   "execution_count": 61,
   "metadata": {
    "slideshow": {
     "slide_type": "slide"
    }
   },
   "outputs": [
    {
     "name": "stdout",
     "output_type": "stream",
     "text": [
      "air_temperature / (K)               (time: 240)\n",
      "     Dimension coordinates:\n",
      "          time                           x\n",
      "     Auxiliary coordinates:\n",
      "          forecast_period                x\n",
      "     Scalar coordinates:\n",
      "          forecast_reference_time: 1859-09-01 06:00:00\n",
      "          height: 1.5 m\n",
      "          latitude: 37.5 degrees, bound=(14.375, 60.625) degrees\n",
      "          longitude: 270.0 degrees, bound=(224.0625, 315.9375) degrees\n",
      "     Attributes:\n",
      "          Conventions: CF-1.5\n",
      "          Model scenario: A1B\n",
      "          STASH: m01s03i236\n",
      "          source: Data from Met Office Unified Model 6.05\n",
      "     Cell methods:\n",
      "          mean: time (6 hour)\n",
      "          mean: latitude, longitude\n",
      "286.48658708791567\n"
     ]
    }
   ],
   "source": [
    "from iris.analysis.cartography import area_weights\n",
    "\n",
    "cube.coord('latitude').guess_bounds()\n",
    "cube.coord('longitude').guess_bounds()\n",
    "cell_weights = area_weights(cube)\n",
    "\n",
    "global_mean = cube.collapsed(['latitude', 'longitude'],\n",
    "                             iris.analysis.MEAN,\n",
    "                             weights=cell_weights)\n",
    "print(global_mean)\n",
    "print(global_mean.data[0])"
   ]
  },
  {
   "cell_type": "markdown",
   "metadata": {
    "slideshow": {
     "slide_type": "slide"
    }
   },
   "source": [
    "## Creating extra annotation coordinates for statistical convenience\n",
    "\n",
    "Sometimes we want to be able to categorise data before performing statistical operations on it. For example, we might want to categorise our data by \"daylight maximum\" or \"seasonal mean\" etc. Both of these categorisations would be based on the time coordinate."
   ]
  },
  {
   "cell_type": "markdown",
   "metadata": {
    "slideshow": {
     "slide_type": "slide"
    }
   },
   "source": [
    "The ``iris.coord_categorisation`` module provides convenience functions to add some common categorical coordinates, and provides a generalised function to allow each creation of custom categorisations. "
   ]
  },
  {
   "cell_type": "code",
   "execution_count": 62,
   "metadata": {
    "slideshow": {
     "slide_type": "fragment"
    }
   },
   "outputs": [],
   "source": [
    "import iris.coord_categorisation as coord_cat\n",
    "\n",
    "filename = iris.sample_data_path('ostia_monthly.nc')\n",
    "cube = iris.load_cube(filename, 'surface_temperature')"
   ]
  },
  {
   "cell_type": "markdown",
   "metadata": {
    "slideshow": {
     "slide_type": "slide"
    }
   },
   "source": [
    "The cube loaded represents the monthly air_temperature from April 2006 through to October 2010. Let's add a categorisation coordinate to this cube to identify the climatological season (i.e \"djf\", \"mam\", \"jja\" or \"son\") of each time point:"
   ]
  },
  {
   "cell_type": "code",
   "execution_count": 63,
   "metadata": {
    "slideshow": {
     "slide_type": "fragment"
    }
   },
   "outputs": [
    {
     "name": "stdout",
     "output_type": "stream",
     "text": [
      "AuxCoord(array(['mam', 'mam', 'jja', 'jja', 'jja', 'son', 'son', 'son', 'djf',\n",
      "       'djf', 'djf', 'mam', 'mam', 'mam', 'jja', 'jja', 'jja', 'son',\n",
      "       'son', 'son', 'djf', 'djf', 'djf', 'mam', 'mam', 'mam', 'jja',\n",
      "       'jja', 'jja', 'son', 'son', 'son', 'djf', 'djf', 'djf', 'mam',\n",
      "       'mam', 'mam', 'jja', 'jja', 'jja', 'son', 'son', 'son', 'djf',\n",
      "       'djf', 'djf', 'mam', 'mam', 'mam', 'jja', 'jja', 'jja', 'son'],\n",
      "      dtype='<U64'), standard_name=None, units=Unit('no_unit'), long_name='clim_season')\n"
     ]
    }
   ],
   "source": [
    "coord_cat.add_season(cube, 'time', name='clim_season')\n",
    "print(cube.coord('clim_season'))"
   ]
  },
  {
   "cell_type": "markdown",
   "metadata": {
    "slideshow": {
     "slide_type": "slide"
    }
   },
   "source": [
    "We can now use the cube's ``aggregated_by`` method to \"group by and aggregate\" on the season, to produce the seasonal mean:"
   ]
  },
  {
   "cell_type": "code",
   "execution_count": 64,
   "metadata": {
    "slideshow": {
     "slide_type": "fragment"
    }
   },
   "outputs": [
    {
     "name": "stdout",
     "output_type": "stream",
     "text": [
      "surface_temperature / (K)           (-- : 4; latitude: 18; longitude: 432)\n",
      "     Dimension coordinates:\n",
      "          latitude                      -            x              -\n",
      "          longitude                     -            -              x\n",
      "     Auxiliary coordinates:\n",
      "          clim_season                   x            -              -\n",
      "          forecast_reference_time       x            -              -\n",
      "          time                          x            -              -\n",
      "     Scalar coordinates:\n",
      "          forecast_period: 0 hours\n",
      "     Attributes:\n",
      "          Conventions: CF-1.5\n",
      "          STASH: m01s00i024\n",
      "     Cell methods:\n",
      "          mean: month, year\n",
      "          mean: clim_season\n",
      "AuxCoord(array(['mam', 'jja', 'son', 'djf'], dtype='<U64'), standard_name=None, units=Unit('no_unit'), long_name='clim_season')\n"
     ]
    }
   ],
   "source": [
    "seasonal_mean = cube.aggregated_by('clim_season', iris.analysis.MEAN)\n",
    "print(seasonal_mean)\n",
    "print(seasonal_mean.coord('clim_season'))"
   ]
  },
  {
   "cell_type": "markdown",
   "metadata": {
    "slideshow": {
     "slide_type": "slide"
    }
   },
   "source": [
    "### Custom categorisation \n",
    "\n",
    "You are not limited to the built-in categorisations, you can define any arbitrary categorisation you like and apply it using the **`add_categorised_coord()`** function, but we won't go into detail on that here."
   ]
  },
  {
   "cell_type": "markdown",
   "metadata": {
    "slideshow": {
     "slide_type": "slide"
    }
   },
   "source": [
    "## Cube maths"
   ]
  },
  {
   "cell_type": "markdown",
   "metadata": {
    "slideshow": {
     "slide_type": "slide"
    }
   },
   "source": [
    "Basic mathematical operators exist on the cube to allow one to add, subtract, divide, multiply and perform other mathematical operations on cubes of a similar shape to one another:"
   ]
  },
  {
   "cell_type": "code",
   "execution_count": 65,
   "metadata": {
    "slideshow": {
     "slide_type": "fragment"
    }
   },
   "outputs": [
    {
     "name": "stdout",
     "output_type": "stream",
     "text": [
      "air_temperature / (K)               (time: 240; latitude: 37; longitude: 49)\n",
      "air_temperature / (K)               (time: 240; latitude: 37; longitude: 49)\n"
     ]
    }
   ],
   "source": [
    "a1b = iris.load_cube(iris.sample_data_path('A1B_north_america.nc'))\n",
    "e1 = iris.load_cube(iris.sample_data_path('E1_north_america.nc'))\n",
    "\n",
    "print(e1.summary(True))\n",
    "print(a1b.summary(True))"
   ]
  },
  {
   "cell_type": "code",
   "execution_count": 66,
   "metadata": {
    "slideshow": {
     "slide_type": "slide"
    }
   },
   "outputs": [
    {
     "name": "stdout",
     "output_type": "stream",
     "text": [
      "unknown / (K)                       (time: 240; latitude: 37; longitude: 49)\n",
      "     Dimension coordinates:\n",
      "          time                           x              -              -\n",
      "          latitude                       -              x              -\n",
      "          longitude                      -              -              x\n",
      "     Auxiliary coordinates:\n",
      "          forecast_period                x              -              -\n",
      "     Scalar coordinates:\n",
      "          forecast_reference_time: 1859-09-01 06:00:00\n",
      "          height: 1.5 m\n"
     ]
    }
   ],
   "source": [
    "scenario_difference = a1b - e1\n",
    "print(scenario_difference)"
   ]
  },
  {
   "cell_type": "markdown",
   "metadata": {
    "slideshow": {
     "slide_type": "fragment"
    }
   },
   "source": [
    "Notice that the resultant cube's name is now unknown."
   ]
  },
  {
   "cell_type": "markdown",
   "metadata": {
    "slideshow": {
     "slide_type": "slide"
    }
   },
   "source": [
    "Cube broadcasting is also supported, meaning that the two cubes don't need to have the same shape. This is roughly analagous to broadcasting of NumPy arrays. For example, to compute anomalies with respect to the time-mean:"
   ]
  },
  {
   "cell_type": "code",
   "execution_count": 70,
   "metadata": {
    "slideshow": {
     "slide_type": "fragment"
    }
   },
   "outputs": [
    {
     "name": "stdout",
     "output_type": "stream",
     "text": [
      "unknown / (K)                       (time: 240; latitude: 37; longitude: 49)\n",
      "     Dimension coordinates:\n",
      "          time                           x              -              -\n",
      "          latitude                       -              x              -\n",
      "          longitude                      -              -              x\n",
      "     Auxiliary coordinates:\n",
      "          forecast_period                x              -              -\n",
      "     Scalar coordinates:\n",
      "          forecast_reference_time: 1859-09-01 06:00:00\n",
      "          height: 1.5 m\n"
     ]
    },
    {
     "name": "stderr",
     "output_type": "stream",
     "text": [
      "/opt/tljh/user/lib/python3.7/site-packages/iris/coords.py:1410: UserWarning: Collapsing a non-contiguous coordinate. Metadata may not be fully descriptive for 'forecast_period'.\n",
      "  warnings.warn(msg.format(self.name()))\n"
     ]
    }
   ],
   "source": [
    "print(e1 - e1.collapsed('time', iris.analysis.MEAN))"
   ]
  },
  {
   "cell_type": "markdown",
   "metadata": {
    "slideshow": {
     "slide_type": "slide"
    }
   },
   "source": [
    "It is also possible to operate on cubes with numeric scalars, NumPy arrays and even cube coordinates:"
   ]
  },
  {
   "cell_type": "code",
   "execution_count": 71,
   "metadata": {
    "slideshow": {
     "slide_type": "fragment"
    }
   },
   "outputs": [
    {
     "data": {
      "text/html": [
       "\n",
       "<style>\n",
       "  a.iris {\n",
       "      text-decoration: none !important;\n",
       "  }\n",
       "  table.iris {\n",
       "      white-space: pre;\n",
       "      border: 1px solid;\n",
       "      border-color: #9c9c9c;\n",
       "      font-family: monaco, monospace;\n",
       "  }\n",
       "  th.iris {\n",
       "      background: #303f3f;\n",
       "      color: #e0e0e0;\n",
       "      border-left: 1px solid;\n",
       "      border-color: #9c9c9c;\n",
       "      font-size: 1.05em;\n",
       "      min-width: 50px;\n",
       "      max-width: 125px;\n",
       "  }\n",
       "  tr.iris :first-child {\n",
       "      border-right: 1px solid #9c9c9c !important;\n",
       "  }\n",
       "  td.iris-title {\n",
       "      background: #d5dcdf;\n",
       "      border-top: 1px solid #9c9c9c;\n",
       "      font-weight: bold;\n",
       "  }\n",
       "  .iris-word-cell {\n",
       "      text-align: left !important;\n",
       "      white-space: pre;\n",
       "  }\n",
       "  .iris-subheading-cell {\n",
       "      padding-left: 2em !important;\n",
       "  }\n",
       "  .iris-inclusion-cell {\n",
       "      padding-right: 1em !important;\n",
       "  }\n",
       "  .iris-panel-body {\n",
       "      padding-top: 0px;\n",
       "  }\n",
       "  .iris-panel-title {\n",
       "      padding-left: 3em;\n",
       "  }\n",
       "  .iris-panel-title {\n",
       "      margin-top: 7px;\n",
       "  }\n",
       "</style>\n",
       "<table class=\"iris\" id=\"140564473604920\">\n",
       "    <tr class=\"iris\">\n",
       "<th class=\"iris iris-word-cell\">Unknown (0.0174532925199433 K.rad)</th>\n",
       "<th class=\"iris iris-word-cell\">time</th>\n",
       "<th class=\"iris iris-word-cell\">latitude</th>\n",
       "<th class=\"iris iris-word-cell\">longitude</th>\n",
       "</tr>\n",
       "    <tr class=\"iris\">\n",
       "<td class=\"iris-word-cell iris-subheading-cell\">Shape</td>\n",
       "<td class=\"iris iris-inclusion-cell\">240</td>\n",
       "<td class=\"iris iris-inclusion-cell\">37</td>\n",
       "<td class=\"iris iris-inclusion-cell\">49</td>\n",
       "</tr>\n",
       "    <tr class=\"iris\">\n",
       "    <td class=\"iris-title iris-word-cell\">Dimension coordinates</td>\n",
       "    <td class=\"iris-title\"></td>\n",
       "    <td class=\"iris-title\"></td>\n",
       "    <td class=\"iris-title\"></td>\n",
       "</tr>\n",
       "<tr class=\"iris\">\n",
       "    <td class=\"iris-word-cell iris-subheading-cell\">\ttime</td>\n",
       "    <td class=\"iris-inclusion-cell\">x</td>\n",
       "    <td class=\"iris-inclusion-cell\">-</td>\n",
       "    <td class=\"iris-inclusion-cell\">-</td>\n",
       "</tr>\n",
       "<tr class=\"iris\">\n",
       "    <td class=\"iris-word-cell iris-subheading-cell\">\tlatitude</td>\n",
       "    <td class=\"iris-inclusion-cell\">-</td>\n",
       "    <td class=\"iris-inclusion-cell\">x</td>\n",
       "    <td class=\"iris-inclusion-cell\">-</td>\n",
       "</tr>\n",
       "<tr class=\"iris\">\n",
       "    <td class=\"iris-word-cell iris-subheading-cell\">\tlongitude</td>\n",
       "    <td class=\"iris-inclusion-cell\">-</td>\n",
       "    <td class=\"iris-inclusion-cell\">-</td>\n",
       "    <td class=\"iris-inclusion-cell\">x</td>\n",
       "</tr>\n",
       "<tr class=\"iris\">\n",
       "    <td class=\"iris-title iris-word-cell\">Auxiliary coordinates</td>\n",
       "    <td class=\"iris-title\"></td>\n",
       "    <td class=\"iris-title\"></td>\n",
       "    <td class=\"iris-title\"></td>\n",
       "</tr>\n",
       "<tr class=\"iris\">\n",
       "    <td class=\"iris-word-cell iris-subheading-cell\">\tforecast_period</td>\n",
       "    <td class=\"iris-inclusion-cell\">x</td>\n",
       "    <td class=\"iris-inclusion-cell\">-</td>\n",
       "    <td class=\"iris-inclusion-cell\">-</td>\n",
       "</tr>\n",
       "<tr class=\"iris\">\n",
       "    <td class=\"iris-title iris-word-cell\">Scalar coordinates</td>\n",
       "    <td class=\"iris-title\"></td>\n",
       "    <td class=\"iris-title\"></td>\n",
       "    <td class=\"iris-title\"></td>\n",
       "</tr>\n",
       "<tr class=\"iris\">\n",
       "    <td class=\"iris-word-cell iris-subheading-cell\">\tforecast_reference_time</td>\n",
       "    <td class=\"iris-word-cell\" colspan=\"3\">1859-09-01 06:00:00</td>\n",
       "</tr>\n",
       "<tr class=\"iris\">\n",
       "    <td class=\"iris-word-cell iris-subheading-cell\">\theight</td>\n",
       "    <td class=\"iris-word-cell\" colspan=\"3\">1.5 m</td>\n",
       "</tr>\n",
       "</table>\n",
       "        "
      ],
      "text/plain": [
       "<iris 'Cube' of unknown / (0.0174532925199433 K.rad) (time: 240; latitude: 37; longitude: 49)>"
      ]
     },
     "execution_count": 71,
     "metadata": {},
     "output_type": "execute_result"
    }
   ],
   "source": [
    "e1 * e1.coord('latitude')"
   ]
  },
  {
   "cell_type": "markdown",
   "metadata": {
    "slideshow": {
     "slide_type": "slide"
    }
   },
   "source": [
    "Sometimes you'd like to apply an operation that hasn't been pre-defined in Iris, so it is important that we still have the power to update the cube's data directly. Whenever we do this though, we should be mindful of updating the necessary metadata on the cube:"
   ]
  },
  {
   "cell_type": "code",
   "execution_count": 72,
   "metadata": {
    "slideshow": {
     "slide_type": "fragment"
    }
   },
   "outputs": [],
   "source": [
    "e1_hot = e1.copy()\n",
    "\n",
    "e1_hot.data = np.ma.masked_less_equal(e1_hot.data, 280)\n",
    "e1_hot.rename('air temperatures greater than 280K')"
   ]
  },
  {
   "cell_type": "markdown",
   "metadata": {
    "slideshow": {
     "slide_type": "slide"
    }
   },
   "source": [
    "## Plotting\n",
    "\n",
    "Iris has some neat plotting functionality built-in, making use of matplotlib and cartopy and using the metadata provided with cubes to determine coordinates, projections etc."
   ]
  },
  {
   "cell_type": "code",
   "execution_count": 73,
   "metadata": {
    "slideshow": {
     "slide_type": "fragment"
    }
   },
   "outputs": [],
   "source": [
    "cube = iris.load_cube(iris.sample_data_path('air_temp.pp'))"
   ]
  },
  {
   "cell_type": "markdown",
   "metadata": {
    "slideshow": {
     "slide_type": "slide"
    }
   },
   "source": [
    "We'll use the **`iris.plot`** module to plot this cube:"
   ]
  },
  {
   "cell_type": "code",
   "execution_count": 76,
   "metadata": {
    "slideshow": {
     "slide_type": "fragment"
    }
   },
   "outputs": [
    {
     "data": {
      "image/png": "[encoded data removed]",
      "text/plain": [
       "<Figure size 432x288 with 1 Axes>"
      ]
     },
     "metadata": {
      "needs_background": "light"
     },
     "output_type": "display_data"
    }
   ],
   "source": [
    "import iris.plot as iplt\n",
    "\n",
    "iplt.pcolormesh(cube, cmap='viridis')\n",
    "iplt.show()"
   ]
  },
  {
   "cell_type": "markdown",
   "metadata": {
    "slideshow": {
     "slide_type": "fragment"
    }
   },
   "source": [
    "As you can see, this plot is a bit basic!"
   ]
  },
  {
   "cell_type": "markdown",
   "metadata": {
    "slideshow": {
     "slide_type": "slide"
    }
   },
   "source": [
    "Iris has a second plotting module **`iris.quickplot`** which adds labels and colorbars etc. to plots automatically:"
   ]
  },
  {
   "cell_type": "code",
   "execution_count": 77,
   "metadata": {
    "slideshow": {
     "slide_type": "fragment"
    }
   },
   "outputs": [
    {
     "data": {
      "image/png": "[encoded data removed]",
      "text/plain": [
       "<Figure size 432x288 with 2 Axes>"
      ]
     },
     "metadata": {
      "needs_background": "light"
     },
     "output_type": "display_data"
    }
   ],
   "source": [
    "import iris.quickplot as qplt\n",
    "\n",
    "qplt.pcolormesh(cube, cmap='viridis')\n",
    "qplt.show()"
   ]
  },
  {
   "cell_type": "markdown",
   "metadata": {
    "slideshow": {
     "slide_type": "slide"
    }
   },
   "source": [
    "You can manually create an axes using your desired settings, and pass this to an iris plotting function to tailor your plot:"
   ]
  },
  {
   "cell_type": "code",
   "execution_count": 79,
   "metadata": {
    "slideshow": {
     "slide_type": "fragment"
    }
   },
   "outputs": [
    {
     "data": {
      "image/png": "[encoded data removed]",
      "text/plain": [
       "<Figure size 432x288 with 2 Axes>"
      ]
     },
     "metadata": {
      "needs_background": "light"
     },
     "output_type": "display_data"
    }
   ],
   "source": [
    "import cartopy.crs as ccrs\n",
    "import matplotlib.pyplot as plt\n",
    "\n",
    "ax = plt.axes(projection=ccrs.Robinson())\n",
    "ax.set_global()\n",
    "ax.coastlines()\n",
    "\n",
    "qplt.contourf(cube, axes=ax, cmap='viridis')\n",
    "qplt.show()"
   ]
  },
  {
   "cell_type": "markdown",
   "metadata": {
    "slideshow": {
     "slide_type": "slide"
    }
   },
   "source": [
    "Several kinds of plots are available, including line plots, scatter plots and 2-d points plots:"
   ]
  },
  {
   "cell_type": "code",
   "execution_count": 80,
   "metadata": {
    "slideshow": {
     "slide_type": "fragment"
    }
   },
   "outputs": [
    {
     "data": {
      "image/png": "[encoded data removed]",
      "text/plain": [
       "<Figure size 432x288 with 1 Axes>"
      ]
     },
     "metadata": {
      "needs_background": "light"
     },
     "output_type": "display_data"
    }
   ],
   "source": [
    "temp = iris.load_cube(iris.sample_data_path('atlantic_profiles.nc'),\n",
    "                      'sea_water_potential_temperature')\n",
    "\n",
    "qplt.plot(temp[:, 0, 0], temp.coord('depth'))\n",
    "qplt.show()"
   ]
  },
  {
   "cell_type": "markdown",
   "metadata": {
    "slideshow": {
     "slide_type": "slide"
    }
   },
   "source": [
    "## Regridding\n",
    "\n",
    "When comparing gridded data sets it is often necessary to perform interpolation/regridding to make different data sets comparable. Iris has a whole suite of interpolation and regridding feautres. Here we'll explore the basic regridding functionality."
   ]
  },
  {
   "cell_type": "markdown",
   "metadata": {
    "slideshow": {
     "slide_type": "slide"
    }
   },
   "source": [
    "First we'll load some data on a global latitude-longitude grid:"
   ]
  },
  {
   "cell_type": "code",
   "execution_count": null,
   "metadata": {
    "slideshow": {
     "slide_type": "fragment"
    }
   },
   "outputs": [],
   "source": [
    "global_air_temp = iris.load_cube(iris.sample_data_path('air_temp.pp'))"
   ]
  },
  {
   "cell_type": "code",
   "execution_count": null,
   "metadata": {
    "slideshow": {
     "slide_type": "fragment"
    }
   },
   "outputs": [],
   "source": [
    "qplt.pcolormesh(global_air_temp, cmap='viridis')\n",
    "plt.gca().coastlines()\n",
    "qplt.show()"
   ]
  },
  {
   "cell_type": "markdown",
   "metadata": {
    "slideshow": {
     "slide_type": "slide"
    }
   },
   "source": [
    "Next we'll load some data on a rotated pole grid covering the North Atlantic and Europe (Met Office NAE model domain):"
   ]
  },
  {
   "cell_type": "code",
   "execution_count": null,
   "metadata": {
    "slideshow": {
     "slide_type": "fragment"
    }
   },
   "outputs": [],
   "source": [
    "rotated_psl = iris.load_cube(iris.sample_data_path('rotated_pole.nc'))\n",
    "rotated_psl.convert_units('hPa')"
   ]
  },
  {
   "cell_type": "code",
   "execution_count": null,
   "metadata": {
    "slideshow": {
     "slide_type": "fragment"
    }
   },
   "outputs": [],
   "source": [
    "qplt.pcolormesh(rotated_psl, cmap='viridis')\n",
    "plt.gca().coastlines()\n",
    "qplt.show()"
   ]
  },
  {
   "cell_type": "markdown",
   "metadata": {
    "slideshow": {
     "slide_type": "slide"
    }
   },
   "source": [
    "If we wanted to compare data on the rotated grid to the global grid, we might regrid the global data onto the smaller rotated pole grid:"
   ]
  },
  {
   "cell_type": "code",
   "execution_count": null,
   "metadata": {
    "slideshow": {
     "slide_type": "fragment"
    }
   },
   "outputs": [],
   "source": [
    "rotated_air_temp = global_air_temp.regrid(rotated_psl,\n",
    "                                          iris.analysis.Linear())"
   ]
  },
  {
   "cell_type": "code",
   "execution_count": null,
   "metadata": {
    "slideshow": {
     "slide_type": "fragment"
    }
   },
   "outputs": [],
   "source": [
    "qplt.pcolormesh(rotated_air_temp, cmap='viridis')\n",
    "plt.gca().coastlines()\n",
    "qplt.show()"
   ]
  },
  {
   "cell_type": "markdown",
   "metadata": {
    "slideshow": {
     "slide_type": "slide"
    }
   },
   "source": [
    "Alternatively we might want to put the rotated pole data onto the global latitude-longitude grid. In this direction we must be careful not to extrapolate outside the original domain:"
   ]
  },
  {
   "cell_type": "code",
   "execution_count": null,
   "metadata": {
    "slideshow": {
     "slide_type": "fragment"
    }
   },
   "outputs": [],
   "source": [
    "scheme = iris.analysis.Linear(extrapolation_mode='mask')\n",
    "global_psl = rotated_psl.regrid(global_air_temp, scheme)"
   ]
  },
  {
   "cell_type": "code",
   "execution_count": null,
   "metadata": {
    "slideshow": {
     "slide_type": "fragment"
    }
   },
   "outputs": [],
   "source": [
    "qplt.pcolormesh(global_psl, cmap='viridis')\n",
    "plt.gca().coastlines()\n",
    "qplt.show()"
   ]
  },
  {
   "cell_type": "markdown",
   "metadata": {
    "slideshow": {
     "slide_type": "slide"
    }
   },
   "source": [
    "This has only been a short overview of Iris' regridding capabilities. There are more advanced techniques available such as area weighted regridding, and a selection of more generic interpolation routines suited to all kinds of data."
   ]
  },
  {
   "cell_type": "markdown",
   "metadata": {
    "slideshow": {
     "slide_type": "slide"
    }
   },
   "source": [
    "## Exercise 2\n",
    "\n",
    "This exercise puts together many of the topics covered in this session."
   ]
  },
  {
   "cell_type": "markdown",
   "metadata": {
    "slideshow": {
     "slide_type": "-"
    }
   },
   "source": [
    "1\\. Load the single cube from the file `iris.sample_data_path('SOI_Darwin.nc')`. This contains monthly values of the Southern Oscillation Index."
   ]
  },
  {
   "cell_type": "code",
   "execution_count": 5,
   "metadata": {},
   "outputs": [],
   "source": [
    "fname=iris.sample_data_path('SOI_Darwin.nc')\n",
    "cube=iris.load(fname)"
   ]
  },
  {
   "cell_type": "code",
   "execution_count": 8,
   "metadata": {},
   "outputs": [],
   "source": [
    "cube=cube[0]"
   ]
  },
  {
   "cell_type": "markdown",
   "metadata": {
    "slideshow": {
     "slide_type": "-"
    }
   },
   "source": [
    "2\\. Add two new coordinates based upon the time coordinate, one categorising the meteorological season, and one the year the season was in (hint: add_season and add_season_year are pre-defined). Examine the resulting coordinates."
   ]
  },
  {
   "cell_type": "code",
   "execution_count": 13,
   "metadata": {},
   "outputs": [],
   "source": [
    "cube.remove_coord('clim_season')\n",
    "cube.remove_coord('clim_season_year')\n",
    "import iris.coord_categorisation as coord_cat\n",
    "coord_cat.add_season(cube, 'time', name='clim_season')\n",
    "coord_cat.add_season_year(cube, 'time', name='clim_season_year')"
   ]
  },
  {
   "cell_type": "code",
   "execution_count": 16,
   "metadata": {},
   "outputs": [
    {
     "data": {
      "text/plain": [
       "(1776,)"
      ]
     },
     "execution_count": 16,
     "metadata": {},
     "output_type": "execute_result"
    }
   ],
   "source": [
    "cube.shape"
   ]
  },
  {
   "cell_type": "markdown",
   "metadata": {
    "slideshow": {
     "slide_type": "-"
    }
   },
   "source": [
    "3\\. Compute the seasonal means from this cube (i.e. average together the times within in each individual season). You should end up with a time series of length 593 (hint: you can specify two coordinates to aggregate over)."
   ]
  },
  {
   "cell_type": "code",
   "execution_count": 22,
   "metadata": {},
   "outputs": [
    {
     "data": {
      "text/plain": [
       "(593,)"
      ]
     },
     "execution_count": 22,
     "metadata": {},
     "output_type": "execute_result"
    }
   ],
   "source": [
    "seasonal_mean=cube.aggregated_by(['clim_season_year', 'clim_season'], iris.analysis.MEAN )\n",
    "seasonal_mean.shape"
   ]
  },
  {
   "cell_type": "markdown",
   "metadata": {
    "slideshow": {
     "slide_type": "-"
    }
   },
   "source": [
    "4\\. Now compute the seasonal climatology. You should end up with a cube of size 4, one point per season (hint: you can use aggregated_by again)."
   ]
  },
  {
   "cell_type": "code",
   "execution_count": 24,
   "metadata": {},
   "outputs": [
    {
     "data": {
      "text/plain": [
       "(4,)"
      ]
     },
     "execution_count": 24,
     "metadata": {},
     "output_type": "execute_result"
    }
   ],
   "source": [
    "seasonal_climatology=cube.aggregated_by('clim_season', iris.analysis.MEAN)\n",
    "seasonal_climatology.shape"
   ]
  },
  {
   "cell_type": "markdown",
   "metadata": {
    "slideshow": {
     "slide_type": "-"
    }
   },
   "source": [
    "5\\. Extract the DJF season from both the climatology and seasonal means. Use these to compute a time series of DJF anomalies with respect to the DJF mean (hint: remember you can subtract cubes of different dimensionality)."
   ]
  },
  {
   "cell_type": "markdown",
   "metadata": {
    "slideshow": {
     "slide_type": "-"
    }
   },
   "source": [
    "6\\. Finally, give the DJF anomalies cube a sensible name and plot the time-series with labelled axes."
   ]
  },
  {
   "cell_type": "markdown",
   "metadata": {
    "slideshow": {
     "slide_type": "slide"
    }
   },
   "source": [
    "## Exercise 3\n",
    "\n",
    "1\\. Load 'A1B_north_america.nc' from the iris sample data"
   ]
  },
  {
   "cell_type": "markdown",
   "metadata": {
    "slideshow": {
     "slide_type": "-"
    }
   },
   "source": [
    "2\\. Extract just data from the year 1980 and beyond from the loaded cube"
   ]
  },
  {
   "cell_type": "markdown",
   "metadata": {
    "slideshow": {
     "slide_type": "-"
    }
   },
   "source": [
    "3\\. Define a function which takes a coordinate and a single time point as arguments, and returns the decade. For example, your function should return 2010 for the following:\n",
    "\n",
    "       time = iris.coords.DimCoord([10], 'time', units='days since 2018-01-01')\n",
    "       print your_decade_function(time, time.points[0])"
   ]
  },
  {
   "cell_type": "markdown",
   "metadata": {
    "slideshow": {
     "slide_type": "-"
    }
   },
   "source": [
    "4\\. Add a \"decade\" coordinate to the loaded cube using your function and the coord categorisation module"
   ]
  },
  {
   "cell_type": "markdown",
   "metadata": {
    "slideshow": {
     "slide_type": "-"
    }
   },
   "source": [
    "5\\. Calculate the decadal means cube for this scenario"
   ]
  },
  {
   "cell_type": "markdown",
   "metadata": {
    "slideshow": {
     "slide_type": "-"
    }
   },
   "source": [
    "6\\. Create a figure with 3 rows and 4 columns displaying the decadal means, with the decade displayed prominently in each axes' title (hint: the `slices` or `slices_over` method of the cube will be helpful, especially combined with the built-in `enumerate` function in a for-loop)"
   ]
  }
 ],
 "metadata": {
  "anaconda-cloud": {},
  "celltoolbar": "Slideshow",
  "kernelspec": {
   "display_name": "Python 3",
   "language": "python",
   "name": "python3"
  },
  "language_info": {
   "codemirror_mode": {
    "name": "ipython",
    "version": 3
   },
   "file_extension": ".py",
   "mimetype": "text/x-python",
   "name": "python",
   "nbconvert_exporter": "python",
   "pygments_lexer": "ipython3",
   "version": "3.7.3"
  },
  "livereveal": {
   "start_slideshow_at": "selected"
  }
 },
 "nbformat": 4,
 "nbformat_minor": 4
}
