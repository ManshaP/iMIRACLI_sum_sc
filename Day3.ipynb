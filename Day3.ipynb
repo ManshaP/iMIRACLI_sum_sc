{
 "cells": [
  {
   "cell_type": "markdown",
   "metadata": {},
   "source": [
    "# Day 3"
   ]
  },
  {
   "cell_type": "markdown",
   "metadata": {},
   "source": [
    "## Lecture 6 - Clouds and Climate"
   ]
  },
  {
   "cell_type": "markdown",
   "metadata": {},
   "source": [
    "The feedback of Temperature on radiative forcing include the albedo, emissivity and stefan boltzmann effects. Effective radiative forcing has a CO2 and an aerosol component. \n",
    "\n",
    "Droplet concentration $N_d$, cloud fraction $f$, Liquid water path $L$ and cloud top temperature $T_{top}$ are those variables sensitive to aerosol perturbations. Albedo is a monotonously increasing function of the drop concentration (Tomey effect, first indir. effect). Increase in liquid water path increases albedo. Radiation also depends on all of these. Extra $N_d$ depletes supersaturation, increases virtual T, reduces rate of autoconversion and loss of cloud water. \n",
    "\n"
   ]
  },
  {
   "cell_type": "markdown",
   "metadata": {},
   "source": [
    "## Lecture 7 - "
   ]
  },
  {
   "cell_type": "code",
   "execution_count": null,
   "metadata": {},
   "outputs": [],
   "source": []
  }
 ],
 "metadata": {
  "kernelspec": {
   "display_name": "Python 3",
   "language": "python",
   "name": "python3"
  },
  "language_info": {
   "codemirror_mode": {
    "name": "ipython",
    "version": 3
   },
   "file_extension": ".py",
   "mimetype": "text/x-python",
   "name": "python",
   "nbconvert_exporter": "python",
   "pygments_lexer": "ipython3",
   "version": "3.7.3"
  }
 },
 "nbformat": 4,
 "nbformat_minor": 4
}
