{
 "cells": [
  {
   "cell_type": "markdown",
   "metadata": {},
   "source": [
    "# Day 1 "
   ]
  },
  {
   "cell_type": "markdown",
   "metadata": {},
   "source": [
    "Here, I will try and put some notes covering the summer school."
   ]
  },
  {
   "cell_type": "markdown",
   "metadata": {},
   "source": [
    "## Lecture 1 - Atmospheric composition and thermodynamics"
   ]
  },
  {
   "cell_type": "markdown",
   "metadata": {},
   "source": [
    "There are gases and condensed phase (aerosols) composites. \\\n",
    "Among aerosols: soot, road dust, sulfate part., pollen, virus...\\\n",
    "aerosols much less mass compared to gas, about eight orders of magnitude \\\n",
    "\\\n",
    "For the gaseous part, we use the ideal gas law:\\\n",
    "$PV=nRT$ \\\n",
    "BUT: there are phase transitions and reactions.\\\n",
    "Each of isothermal, isobaric, isochoric (const. V) and adiabatic setting are related to their own free energy.\n",
    "Phase transitions can fall into condensation or nucleation (--> cloud formation). Phase equilibrium state describes the energetically most favourable state in equilibrium. This means maximising entropy, minimising free energy. There is no net flux of molecules through the interface. Temperature T, net force F and chemical potential $\\mu$ must be equal in both phases. The equilibrium vapor pressure $p_{sat}$ is a property of the fluid, a strong function of temperature (--> the Clausius Clapeyron eq.) $p_{sat}$ is used to normalise relative humidity or saturation ratio. This ratio is 1 on the phase transition curves in the p-T diagram. The equilibrium vapor pressure is modified by Kelvin effect and therefore increases when the surface is curved. This means that a droplet evaporates easier than a flat surface. A mixture of species results in the Raoult effect.  \\\n",
    "\\\n",
    "There is a large gap beween the abundance of water and other condensable vapors in the atmosphere (about $10^{-10}$ for ammonia, the next most abundant one). Aerosol sizes reach from nanometers to micrometers. In the diameter-number-abundance diagram, there are different log-normal distributed modes (nucleation, Aitken, accumulation). These look different in diameter-mass-abundance graph. The distribution depends on the oroigin of the sampled air. "
   ]
  },
  {
   "cell_type": "markdown",
   "metadata": {},
   "source": [
    "# Lecture 2 - A feel for Atmospheric Radiation"
   ]
  },
  {
   "cell_type": "markdown",
   "metadata": {},
   "source": [
    "by Philip Stier \\\n",
    "Black body, Planck's law, Stefan-Boltzmann law\\\n",
    "overlap between earth's emission spectrum and sun's spectrum very small. \n",
    "Molecular dof of $CO_2$ are vibrational and rotational. Without the absorption of greenhouse gases, mostly triatomic, earth would be at only 255K.  Also, a layered model of the atmosphere gives strong drop of temperature (partly offset by convection) with height. Increasing $CO_2$ means that the radiation emmitted comes from higher up, and therefore colder molecules. --Is the mean free path really so small? so that in one column there are overlapping molecules?\\\n",
    "\\\n",
    "Scattering: Mie and Rayleigh (small part. limit where $r/\\lambda =x  <<1$), hence the sky is blue (Rayleigh) and clouds are white (Mie). All particles that absorb also scatter and vv. "
   ]
  },
  {
   "cell_type": "code",
   "execution_count": null,
   "metadata": {},
   "outputs": [],
   "source": []
  }
 ],
 "metadata": {
  "kernelspec": {
   "display_name": "Python 3",
   "language": "python",
   "name": "python3"
  },
  "language_info": {
   "codemirror_mode": {
    "name": "ipython",
    "version": 3
   },
   "file_extension": ".py",
   "mimetype": "text/x-python",
   "name": "python",
   "nbconvert_exporter": "python",
   "pygments_lexer": "ipython3",
   "version": "3.7.3"
  }
 },
 "nbformat": 4,
 "nbformat_minor": 4
}
