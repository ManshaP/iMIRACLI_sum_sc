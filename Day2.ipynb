{
 "cells": [
  {
   "cell_type": "markdown",
   "metadata": {},
   "source": [
    "# Day 2"
   ]
  },
  {
   "cell_type": "markdown",
   "metadata": {},
   "source": [
    "## Lecture 3 - Buoyancy and Convection"
   ]
  },
  {
   "cell_type": "markdown",
   "metadata": {},
   "source": [
    "Annica Ekman \\\n",
    "Clouds and convection \\\n",
    "Saturation is reached through mixing, cooling or lifting (mountain or buoyancy driven). \\\n",
    "Buoyancy\\\n",
    "We split the vertical velocity and density in NS-eq. into mean and perturbation. Then dw/dt = - 1/rho dp/dz - rho'/rho g \\\n",
    "Then the acceleration is equal to $g \\frac{(T_env-T)}{T}$\\\n",
    "The adiabatic lapse rate is about 1°C/100m (dry) or 0.6°C/100m (moist). The actual environmental lapse rate can be anything. We distinguish absolutely stable, absolutely unstable and conditionally unstable. Potential Temperature \"calculates out\" the adiabatic cooling, so in a stable atmosphere potential temperature increases with height.\\\n",
    "Thermodynamic Diagrams \\\n",
    "skew-T-logP\\\n",
    "CAPE and parcel theory\\\n",
    "In the eq for vertical motion with virtual dry temperature \n",
    "$w^2=w_0^2+2 g \\int_{z_0}^z (T_{env}-T)/T$ \\\n",
    "CAPE is a measure for kinetic energy, determining how strong the potential convective activity is."
   ]
  },
  {
   "cell_type": "markdown",
   "metadata": {},
   "source": [
    "## Lecture 4 - Aerosols and Liquid clouds"
   ]
  },
  {
   "cell_type": "markdown",
   "metadata": {},
   "source": [
    "Thanos Nenes \\\n",
    "Terminology: PM10 means smaller than 10 microns\\\n",
    "Lifetime: smallest particles grow, large part. settle. Size-distribution log-normal. The mass distribution curve is like the number distribution, but shifted to larger particles.\\\n",
    "Because surface scales with $l^2$ and mass with $l^3$, the size distribution is important. Peak at 100 nm and at 1 microm, processes include coagulation, rainout and sedimentation. \\\n",
    "The thermodynamic problem of given concentration, calculate phases is solved by minimising Gibbs Free Energy, $dG=0$\\\n",
    "Aerosol water uptake happens at deliquescence relative humidity DRH. Therefore aerosol water content is nonlinear in relative humidity. DRH is a material property. This is related to Raoult's law. An \"activity\" or \"non-ideality\" factor is added to account for the interaction of ions. \\\n",
    "\\\n",
    "Now: Clouds\\\n",
    "More aerosols mean more cloud condensation nuclei (CCN) make clouds whiter and persist longer (perticipate less). This is thought to yield a net cooling effect on climate (indirect aerosol effect). \\\n",
    "Only the larger aerosol particles become CCN. Curvature and composition influence saturation pressure. \n",
    "Köhler eq. combines Kelvin and Raoult effects. \n",
    "$S=P/P_{sat}=1+A/D_p -B/D_p^3$\n",
    "The Köhler curve has a stable, small part. region and an unstable, larger than $D_{p, crit}$ part. At larger than this, there is growth."
   ]
  },
  {
   "cell_type": "markdown",
   "metadata": {},
   "source": [
    "## Lecture 5 - Microphysics of warm and cold clouds"
   ]
  },
  {
   "cell_type": "markdown",
   "metadata": {},
   "source": [
    "Ulrike Lohmann\\\n",
    "hole in the cloud --> droplets froze and fell, this is started by aeroplane going through. The mechanism is either by exhaust or by cooling jet air. \\\n",
    "In marine clouds in order of size: CCN, cloud droplet, drizzle drop, rain drop, factor of thousand and million in number from droplet to drizzle and drizzle to rain. In cloud, there is competition btw larger and smaller drops for growth.\\\n",
    "Mass transport into and energy transport out of droplet (energy from latent heat). \n",
    "At higher T, droplets grow faster, because there is more absolute humidity. Larger drops grow more slowly. At 15 microns, droplets start to fall and collisions help to grow droplets (collision coalescence, sticking efficiency). Collection efficiency is product of coalescence and collision efficiency. Collision efficiency is lower than one, when small particles \"flow around\" the collecting hydrometeor. \\\n",
    "In warm clouds, collision coalescence dominates precipitation formation. \\\n",
    "Over the continents, almost all precipitation goes through the ice phase, except for the subtropics. Warm rain is almost absent anywhere else, or only leads to drizzle. For ice nucleation to happen, an energy barrier depending on size has to be overcome. Homogeneous freezing of cloud droplets happen at <-38°C. Solution droplets of dilute acid solution can first swell and then freeze. Homogenoeus deposition nucleation from vapour does not happen (needs rel. hum. of ca. 8). Ice nucleating particles like mineral dust reduce the energy barrier for new phase formation by providing a surface for water to condense and freeze on (see spherical cap model). Cloud seedlings: Silver iodide AgI with similar crystal structure to ice. In a mixed phase cloud, saturation pressure over ice is higher than over liquid water. So there is supersat. wrt ice but subsatur. wrt to liquid. Therefore droplets and ice crystals together are not happy, the ice grows at the expense of liquid drops. This is called Wegener-Bergeron-Findeisen process.The ice physe is complicated (columns, dendrites, needles, plates, ...)"
   ]
  },
  {
   "cell_type": "code",
   "execution_count": null,
   "metadata": {},
   "outputs": [],
   "source": []
  }
 ],
 "metadata": {
  "kernelspec": {
   "display_name": "Python 3",
   "language": "python",
   "name": "python3"
  },
  "language_info": {
   "codemirror_mode": {
    "name": "ipython",
    "version": 3
   },
   "file_extension": ".py",
   "mimetype": "text/x-python",
   "name": "python",
   "nbconvert_exporter": "python",
   "pygments_lexer": "ipython3",
   "version": "3.7.3"
  }
 },
 "nbformat": 4,
 "nbformat_minor": 4
}
